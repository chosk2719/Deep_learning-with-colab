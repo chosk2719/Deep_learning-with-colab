{
  "nbformat": 4,
  "nbformat_minor": 0,
  "metadata": {
    "colab": {
      "name": "cifar-10 TPU_test.ipynb",
      "provenance": [],
      "collapsed_sections": [],
      "authorship_tag": "ABX9TyOd1k18qJpiDntawY/izv8I",
      "include_colab_link": true
    },
    "kernelspec": {
      "name": "python3",
      "display_name": "Python 3"
    },
    "accelerator": "TPU"
  },
  "cells": [
    {
      "cell_type": "markdown",
      "metadata": {
        "id": "view-in-github",
        "colab_type": "text"
      },
      "source": [
        "<a href=\"https://colab.research.google.com/github/chosk2719/Deep_learning-with-colab/blob/master/cifar_10_TPU_test.ipynb\" target=\"_parent\"><img src=\"https://colab.research.google.com/assets/colab-badge.svg\" alt=\"Open In Colab\"/></a>"
      ]
    },
    {
      "cell_type": "code",
      "metadata": {
        "id": "Smvt_wN5MX5S",
        "colab_type": "code",
        "colab": {
          "base_uri": "https://localhost:8080/",
          "height": 793
        },
        "outputId": "4dfdc918-6d9d-4e98-d880-8272c2dc940d"
      },
      "source": [
        "%tensorflow_version 2.x\n",
        "import tensorflow as tf\n",
        "print(\"Tensorflow version \" + tf.__version__)\n",
        "\n",
        "try:\n",
        "  tpu = tf.distribute.cluster_resolver.TPUClusterResolver()  # TPU detection\n",
        "  print('Running on TPU ', tpu.cluster_spec().as_dict()['worker'])\n",
        "except ValueError:\n",
        "  raise BaseException('ERROR: Not connected to a TPU runtime; please see the previous cell in this notebook for instructions!')\n",
        "\n",
        "tf.config.experimental_connect_to_cluster(tpu)\n",
        "tf.tpu.experimental.initialize_tpu_system(tpu)\n",
        "tpu_strategy = tf.distribute.experimental.TPUStrategy(tpu)"
      ],
      "execution_count": null,
      "outputs": [
        {
          "output_type": "stream",
          "text": [
            "Tensorflow version 2.2.0\n",
            "Running on TPU  ['10.23.63.178:8470']\n",
            "INFO:tensorflow:Initializing the TPU system: grpc://10.23.63.178:8470\n"
          ],
          "name": "stdout"
        },
        {
          "output_type": "stream",
          "text": [
            "INFO:tensorflow:Initializing the TPU system: grpc://10.23.63.178:8470\n"
          ],
          "name": "stderr"
        },
        {
          "output_type": "stream",
          "text": [
            "INFO:tensorflow:Clearing out eager caches\n"
          ],
          "name": "stdout"
        },
        {
          "output_type": "stream",
          "text": [
            "INFO:tensorflow:Clearing out eager caches\n"
          ],
          "name": "stderr"
        },
        {
          "output_type": "stream",
          "text": [
            "INFO:tensorflow:Finished initializing TPU system.\n"
          ],
          "name": "stdout"
        },
        {
          "output_type": "stream",
          "text": [
            "INFO:tensorflow:Finished initializing TPU system.\n"
          ],
          "name": "stderr"
        },
        {
          "output_type": "stream",
          "text": [
            "INFO:tensorflow:Found TPU system:\n"
          ],
          "name": "stdout"
        },
        {
          "output_type": "stream",
          "text": [
            "INFO:tensorflow:Found TPU system:\n"
          ],
          "name": "stderr"
        },
        {
          "output_type": "stream",
          "text": [
            "INFO:tensorflow:*** Num TPU Cores: 8\n"
          ],
          "name": "stdout"
        },
        {
          "output_type": "stream",
          "text": [
            "INFO:tensorflow:*** Num TPU Cores: 8\n"
          ],
          "name": "stderr"
        },
        {
          "output_type": "stream",
          "text": [
            "INFO:tensorflow:*** Num TPU Workers: 1\n"
          ],
          "name": "stdout"
        },
        {
          "output_type": "stream",
          "text": [
            "INFO:tensorflow:*** Num TPU Workers: 1\n"
          ],
          "name": "stderr"
        },
        {
          "output_type": "stream",
          "text": [
            "INFO:tensorflow:*** Num TPU Cores Per Worker: 8\n"
          ],
          "name": "stdout"
        },
        {
          "output_type": "stream",
          "text": [
            "INFO:tensorflow:*** Num TPU Cores Per Worker: 8\n"
          ],
          "name": "stderr"
        },
        {
          "output_type": "stream",
          "text": [
            "INFO:tensorflow:*** Available Device: _DeviceAttributes(/job:localhost/replica:0/task:0/device:CPU:0, CPU, 0, 0)\n"
          ],
          "name": "stdout"
        },
        {
          "output_type": "stream",
          "text": [
            "INFO:tensorflow:*** Available Device: _DeviceAttributes(/job:localhost/replica:0/task:0/device:CPU:0, CPU, 0, 0)\n"
          ],
          "name": "stderr"
        },
        {
          "output_type": "stream",
          "text": [
            "INFO:tensorflow:*** Available Device: _DeviceAttributes(/job:localhost/replica:0/task:0/device:XLA_CPU:0, XLA_CPU, 0, 0)\n"
          ],
          "name": "stdout"
        },
        {
          "output_type": "stream",
          "text": [
            "INFO:tensorflow:*** Available Device: _DeviceAttributes(/job:localhost/replica:0/task:0/device:XLA_CPU:0, XLA_CPU, 0, 0)\n"
          ],
          "name": "stderr"
        },
        {
          "output_type": "stream",
          "text": [
            "INFO:tensorflow:*** Available Device: _DeviceAttributes(/job:worker/replica:0/task:0/device:CPU:0, CPU, 0, 0)\n"
          ],
          "name": "stdout"
        },
        {
          "output_type": "stream",
          "text": [
            "INFO:tensorflow:*** Available Device: _DeviceAttributes(/job:worker/replica:0/task:0/device:CPU:0, CPU, 0, 0)\n"
          ],
          "name": "stderr"
        },
        {
          "output_type": "stream",
          "text": [
            "INFO:tensorflow:*** Available Device: _DeviceAttributes(/job:worker/replica:0/task:0/device:TPU:0, TPU, 0, 0)\n"
          ],
          "name": "stdout"
        },
        {
          "output_type": "stream",
          "text": [
            "INFO:tensorflow:*** Available Device: _DeviceAttributes(/job:worker/replica:0/task:0/device:TPU:0, TPU, 0, 0)\n"
          ],
          "name": "stderr"
        },
        {
          "output_type": "stream",
          "text": [
            "INFO:tensorflow:*** Available Device: _DeviceAttributes(/job:worker/replica:0/task:0/device:TPU:1, TPU, 0, 0)\n"
          ],
          "name": "stdout"
        },
        {
          "output_type": "stream",
          "text": [
            "INFO:tensorflow:*** Available Device: _DeviceAttributes(/job:worker/replica:0/task:0/device:TPU:1, TPU, 0, 0)\n"
          ],
          "name": "stderr"
        },
        {
          "output_type": "stream",
          "text": [
            "INFO:tensorflow:*** Available Device: _DeviceAttributes(/job:worker/replica:0/task:0/device:TPU:2, TPU, 0, 0)\n"
          ],
          "name": "stdout"
        },
        {
          "output_type": "stream",
          "text": [
            "INFO:tensorflow:*** Available Device: _DeviceAttributes(/job:worker/replica:0/task:0/device:TPU:2, TPU, 0, 0)\n"
          ],
          "name": "stderr"
        },
        {
          "output_type": "stream",
          "text": [
            "INFO:tensorflow:*** Available Device: _DeviceAttributes(/job:worker/replica:0/task:0/device:TPU:3, TPU, 0, 0)\n"
          ],
          "name": "stdout"
        },
        {
          "output_type": "stream",
          "text": [
            "INFO:tensorflow:*** Available Device: _DeviceAttributes(/job:worker/replica:0/task:0/device:TPU:3, TPU, 0, 0)\n"
          ],
          "name": "stderr"
        },
        {
          "output_type": "stream",
          "text": [
            "INFO:tensorflow:*** Available Device: _DeviceAttributes(/job:worker/replica:0/task:0/device:TPU:4, TPU, 0, 0)\n"
          ],
          "name": "stdout"
        },
        {
          "output_type": "stream",
          "text": [
            "INFO:tensorflow:*** Available Device: _DeviceAttributes(/job:worker/replica:0/task:0/device:TPU:4, TPU, 0, 0)\n"
          ],
          "name": "stderr"
        },
        {
          "output_type": "stream",
          "text": [
            "INFO:tensorflow:*** Available Device: _DeviceAttributes(/job:worker/replica:0/task:0/device:TPU:5, TPU, 0, 0)\n"
          ],
          "name": "stdout"
        },
        {
          "output_type": "stream",
          "text": [
            "INFO:tensorflow:*** Available Device: _DeviceAttributes(/job:worker/replica:0/task:0/device:TPU:5, TPU, 0, 0)\n"
          ],
          "name": "stderr"
        },
        {
          "output_type": "stream",
          "text": [
            "INFO:tensorflow:*** Available Device: _DeviceAttributes(/job:worker/replica:0/task:0/device:TPU:6, TPU, 0, 0)\n"
          ],
          "name": "stdout"
        },
        {
          "output_type": "stream",
          "text": [
            "INFO:tensorflow:*** Available Device: _DeviceAttributes(/job:worker/replica:0/task:0/device:TPU:6, TPU, 0, 0)\n"
          ],
          "name": "stderr"
        },
        {
          "output_type": "stream",
          "text": [
            "INFO:tensorflow:*** Available Device: _DeviceAttributes(/job:worker/replica:0/task:0/device:TPU:7, TPU, 0, 0)\n"
          ],
          "name": "stdout"
        },
        {
          "output_type": "stream",
          "text": [
            "INFO:tensorflow:*** Available Device: _DeviceAttributes(/job:worker/replica:0/task:0/device:TPU:7, TPU, 0, 0)\n"
          ],
          "name": "stderr"
        },
        {
          "output_type": "stream",
          "text": [
            "INFO:tensorflow:*** Available Device: _DeviceAttributes(/job:worker/replica:0/task:0/device:TPU_SYSTEM:0, TPU_SYSTEM, 0, 0)\n"
          ],
          "name": "stdout"
        },
        {
          "output_type": "stream",
          "text": [
            "INFO:tensorflow:*** Available Device: _DeviceAttributes(/job:worker/replica:0/task:0/device:TPU_SYSTEM:0, TPU_SYSTEM, 0, 0)\n"
          ],
          "name": "stderr"
        },
        {
          "output_type": "stream",
          "text": [
            "INFO:tensorflow:*** Available Device: _DeviceAttributes(/job:worker/replica:0/task:0/device:XLA_CPU:0, XLA_CPU, 0, 0)\n"
          ],
          "name": "stdout"
        },
        {
          "output_type": "stream",
          "text": [
            "INFO:tensorflow:*** Available Device: _DeviceAttributes(/job:worker/replica:0/task:0/device:XLA_CPU:0, XLA_CPU, 0, 0)\n"
          ],
          "name": "stderr"
        }
      ]
    },
    {
      "cell_type": "code",
      "metadata": {
        "id": "0_xN3waeMY6L",
        "colab_type": "code",
        "colab": {
          "base_uri": "https://localhost:8080/",
          "height": 35
        },
        "outputId": "c5062bef-f222-48e7-880b-21439a717f36"
      },
      "source": [
        "import tensorflow as tf\n",
        "from tensorflow import keras\n",
        "from keras.datasets import cifar10\n",
        "from keras.models import Sequential\n",
        "from keras.layers import Conv2D, MaxPooling2D, Flatten, Dense, Dropout\n",
        "from keras.layers import Activation, BatchNormalization\n",
        "from keras.regularizers import l2\n",
        "import numpy as np"
      ],
      "execution_count": null,
      "outputs": [
        {
          "output_type": "stream",
          "text": [
            "Using TensorFlow backend.\n"
          ],
          "name": "stderr"
        }
      ]
    },
    {
      "cell_type": "code",
      "metadata": {
        "id": "H70jDs7fNE1E",
        "colab_type": "code",
        "colab": {
          "base_uri": "https://localhost:8080/",
          "height": 89
        },
        "outputId": "c72610bf-54a8-4da7-bf41-4a8b0d4ce27a"
      },
      "source": [
        "(X_train, y_train0), (X_test, y_test0) = cifar10.load_data()\n",
        "print(X_train.shape, X_train.dtype)\n",
        "print(y_train0.shape, y_train0.dtype)\n",
        "print(X_test.shape, X_test.dtype)\n",
        "print(y_test0.shape, y_test0.dtype)"
      ],
      "execution_count": null,
      "outputs": [
        {
          "output_type": "stream",
          "text": [
            "(50000, 32, 32, 3) uint8\n",
            "(50000, 1) uint8\n",
            "(10000, 32, 32, 3) uint8\n",
            "(10000, 1) int64\n"
          ],
          "name": "stdout"
        }
      ]
    },
    {
      "cell_type": "code",
      "metadata": {
        "id": "pQbrEFWnNE3y",
        "colab_type": "code",
        "colab": {
          "base_uri": "https://localhost:8080/",
          "height": 35
        },
        "outputId": "b8cb9a46-a890-4838-c0fb-15069f78af42"
      },
      "source": [
        "\n",
        "X_train = X_train.astype('float32')/255.0\n",
        "X_test = X_test.astype('float32')/255.0\n",
        "\n",
        "print(X_train.shape, X_train.dtype)"
      ],
      "execution_count": null,
      "outputs": [
        {
          "output_type": "stream",
          "text": [
            "(50000, 32, 32, 3) float32\n"
          ],
          "name": "stdout"
        }
      ]
    },
    {
      "cell_type": "code",
      "metadata": {
        "id": "dgUPDbZlNE6b",
        "colab_type": "code",
        "colab": {
          "base_uri": "https://localhost:8080/",
          "height": 89
        },
        "outputId": "3c0cade4-f0d1-4399-c24b-da7a9249da95"
      },
      "source": [
        "Y_train = tf.keras.utils.to_categorical(y_train0, 10)\n",
        "Y_test = tf.keras.utils.to_categorical(y_test0, 10)\n",
        "Y_train[:4]"
      ],
      "execution_count": null,
      "outputs": [
        {
          "output_type": "execute_result",
          "data": {
            "text/plain": [
              "array([[0., 0., 0., 0., 0., 0., 1., 0., 0., 0.],\n",
              "       [0., 0., 0., 0., 0., 0., 0., 0., 0., 1.],\n",
              "       [0., 0., 0., 0., 0., 0., 0., 0., 0., 1.],\n",
              "       [0., 0., 0., 0., 1., 0., 0., 0., 0., 0.]], dtype=float32)"
            ]
          },
          "metadata": {
            "tags": []
          },
          "execution_count": 17
        }
      ]
    },
    {
      "cell_type": "code",
      "metadata": {
        "id": "yxAxAKfwNE8r",
        "colab_type": "code",
        "colab": {}
      },
      "source": [
        "np.random.seed(0)\n",
        "weight_decay = 1e-4"
      ],
      "execution_count": null,
      "outputs": []
    },
    {
      "cell_type": "code",
      "metadata": {
        "id": "8UWj7irqNE_G",
        "colab_type": "code",
        "colab": {
          "base_uri": "https://localhost:8080/",
          "height": 1000
        },
        "outputId": "3cf97755-8bc3-4ecd-bec3-318a6fc8bb66"
      },
      "source": [
        "model = Sequential()\n",
        "\n",
        "model.add(Conv2D(32, (3,3), padding='same', kernel_regularizer=l2(weight_decay), \n",
        "                 input_shape=X_train.shape[1:]))\n",
        "model.add(Activation('elu'))\n",
        "model.add(BatchNormalization())\n",
        "model.add(Conv2D(32, (3,3), padding='same', kernel_regularizer=l2(weight_decay)))\n",
        "model.add(Activation('elu'))\n",
        "model.add(BatchNormalization())\n",
        "model.add(MaxPooling2D(pool_size=(2,2)))\n",
        "model.add(Dropout(0.2))\n",
        " \n",
        "model.add(Conv2D(64, (3,3), padding='same', kernel_regularizer=l2(weight_decay)))\n",
        "model.add(Activation('elu'))\n",
        "model.add(BatchNormalization())\n",
        "model.add(Conv2D(64, (3,3), padding='same', kernel_regularizer=l2(weight_decay)))\n",
        "model.add(Activation('elu'))\n",
        "model.add(BatchNormalization())\n",
        "model.add(MaxPooling2D(pool_size=(2,2)))\n",
        "model.add(Dropout(0.3))\n",
        " \n",
        "model.add(Conv2D(128, (3,3), padding='same', kernel_regularizer=l2(weight_decay)))\n",
        "model.add(Activation('elu'))\n",
        "model.add(BatchNormalization())\n",
        "model.add(Conv2D(128, (3,3), padding='same', kernel_regularizer=l2(weight_decay)))\n",
        "model.add(Activation('elu'))\n",
        "model.add(BatchNormalization())\n",
        "model.add(MaxPooling2D(pool_size=(2,2)))\n",
        "model.add(Dropout(0.4))\n",
        " \n",
        "model.add(Flatten())\n",
        "model.add(Dense(10, activation='softmax'))\n",
        "\n",
        "model.summary()"
      ],
      "execution_count": null,
      "outputs": [
        {
          "output_type": "stream",
          "text": [
            "Model: \"sequential_1\"\n",
            "_________________________________________________________________\n",
            "Layer (type)                 Output Shape              Param #   \n",
            "=================================================================\n",
            "conv2d_1 (Conv2D)            (None, 32, 32, 32)        896       \n",
            "_________________________________________________________________\n",
            "activation_1 (Activation)    (None, 32, 32, 32)        0         \n",
            "_________________________________________________________________\n",
            "batch_normalization_1 (Batch (None, 32, 32, 32)        128       \n",
            "_________________________________________________________________\n",
            "conv2d_2 (Conv2D)            (None, 32, 32, 32)        9248      \n",
            "_________________________________________________________________\n",
            "activation_2 (Activation)    (None, 32, 32, 32)        0         \n",
            "_________________________________________________________________\n",
            "batch_normalization_2 (Batch (None, 32, 32, 32)        128       \n",
            "_________________________________________________________________\n",
            "max_pooling2d_1 (MaxPooling2 (None, 16, 16, 32)        0         \n",
            "_________________________________________________________________\n",
            "dropout_1 (Dropout)          (None, 16, 16, 32)        0         \n",
            "_________________________________________________________________\n",
            "conv2d_3 (Conv2D)            (None, 16, 16, 64)        18496     \n",
            "_________________________________________________________________\n",
            "activation_3 (Activation)    (None, 16, 16, 64)        0         \n",
            "_________________________________________________________________\n",
            "batch_normalization_3 (Batch (None, 16, 16, 64)        256       \n",
            "_________________________________________________________________\n",
            "conv2d_4 (Conv2D)            (None, 16, 16, 64)        36928     \n",
            "_________________________________________________________________\n",
            "activation_4 (Activation)    (None, 16, 16, 64)        0         \n",
            "_________________________________________________________________\n",
            "batch_normalization_4 (Batch (None, 16, 16, 64)        256       \n",
            "_________________________________________________________________\n",
            "max_pooling2d_2 (MaxPooling2 (None, 8, 8, 64)          0         \n",
            "_________________________________________________________________\n",
            "dropout_2 (Dropout)          (None, 8, 8, 64)          0         \n",
            "_________________________________________________________________\n",
            "conv2d_5 (Conv2D)            (None, 8, 8, 128)         73856     \n",
            "_________________________________________________________________\n",
            "activation_5 (Activation)    (None, 8, 8, 128)         0         \n",
            "_________________________________________________________________\n",
            "batch_normalization_5 (Batch (None, 8, 8, 128)         512       \n",
            "_________________________________________________________________\n",
            "conv2d_6 (Conv2D)            (None, 8, 8, 128)         147584    \n",
            "_________________________________________________________________\n",
            "activation_6 (Activation)    (None, 8, 8, 128)         0         \n",
            "_________________________________________________________________\n",
            "batch_normalization_6 (Batch (None, 8, 8, 128)         512       \n",
            "_________________________________________________________________\n",
            "max_pooling2d_3 (MaxPooling2 (None, 4, 4, 128)         0         \n",
            "_________________________________________________________________\n",
            "dropout_3 (Dropout)          (None, 4, 4, 128)         0         \n",
            "_________________________________________________________________\n",
            "flatten_1 (Flatten)          (None, 2048)              0         \n",
            "_________________________________________________________________\n",
            "dense_1 (Dense)              (None, 10)                20490     \n",
            "=================================================================\n",
            "Total params: 309,290\n",
            "Trainable params: 308,394\n",
            "Non-trainable params: 896\n",
            "_________________________________________________________________\n"
          ],
          "name": "stdout"
        }
      ]
    },
    {
      "cell_type": "code",
      "metadata": {
        "id": "k8WJ_-X3NFBS",
        "colab_type": "code",
        "colab": {}
      },
      "source": [
        "from keras.optimizers import RMSprop\n",
        "\n",
        "model.compile(loss='categorical_crossentropy', \n",
        "              optimizer=RMSprop(lr=0.001, decay=weight_decay), \n",
        "              metrics=['accuracy'])"
      ],
      "execution_count": null,
      "outputs": []
    },
    {
      "cell_type": "code",
      "metadata": {
        "id": "66IUU6spNFD9",
        "colab_type": "code",
        "colab": {}
      },
      "source": [
        "def lr_schedule(epoch):\n",
        "    lrate = 0.001\n",
        "    if epoch > 30:\n",
        "        lrate = 0.0005\n",
        "    if epoch > 40:\n",
        "        lrate = 0.0003\n",
        "    return lrate"
      ],
      "execution_count": null,
      "outputs": []
    },
    {
      "cell_type": "code",
      "metadata": {
        "id": "VvoPFPQ7NVd_",
        "colab_type": "code",
        "colab": {}
      },
      "source": [
        "#data augmentation\n",
        "from keras.preprocessing.image import ImageDataGenerator\n",
        "\n",
        "datagen = ImageDataGenerator(\n",
        "    rotation_range=15,\n",
        "    width_shift_range=0.1,\n",
        "    height_shift_range=0.1,\n",
        "    horizontal_flip=True,\n",
        ")\n",
        "datagen.fit(X_train)"
      ],
      "execution_count": null,
      "outputs": []
    },
    {
      "cell_type": "code",
      "metadata": {
        "id": "MZVKhqPSRK9n",
        "colab_type": "code",
        "colab": {}
      },
      "source": [
        "!mkdir model"
      ],
      "execution_count": 31,
      "outputs": []
    },
    {
      "cell_type": "code",
      "metadata": {
        "id": "-MI0KMTnNnJn",
        "colab_type": "code",
        "colab": {}
      },
      "source": [
        "from keras.callbacks import ModelCheckpoint, EarlyStopping\n",
        "## to save checkpoint to use later\n",
        "modelpath = \"model/cifar-10-{epoch:02d}-{val_loss:.4f}.hdf5\"\n",
        "checkpointer = ModelCheckpoint(filepath=modelpath, monitor='val_loss', \n",
        "                               verbose=1, save_best_only=True)\n",
        "early_stopping_callback = EarlyStopping(monitor='val_loss', patience=10)"
      ],
      "execution_count": null,
      "outputs": []
    },
    {
      "cell_type": "code",
      "metadata": {
        "id": "P1G2YZ3mNVgV",
        "colab_type": "code",
        "colab": {
          "base_uri": "https://localhost:8080/",
          "height": 1000
        },
        "outputId": "0e7ca2ce-019c-4555-b826-26b03c2c9012"
      },
      "source": [
        "from keras.callbacks import LearningRateScheduler\n",
        "\n",
        "history = model.fit_generator(datagen.flow(X_train, Y_train, batch_size=64),\n",
        "                    steps_per_epoch=X_train.shape[0] // 64, epochs=50,\n",
        "                    verbose=1, validation_data=(X_test, Y_test),\n",
        "                    callbacks=[checkpointer, early_stopping_callback])#[LearningRateScheduler(lr_schedule)])"
      ],
      "execution_count": 32,
      "outputs": [
        {
          "output_type": "stream",
          "text": [
            "Epoch 1/50\n",
            "781/781 [==============================] - 64s 81ms/step - loss: 1.0338 - accuracy: 0.6694 - val_loss: 0.9294 - val_accuracy: 0.7137\n",
            "\n",
            "Epoch 00001: val_loss improved from 1.12443 to 0.92937, saving model to model/cifar-10-01-0.9294.hdf5\n",
            "Epoch 2/50\n",
            "781/781 [==============================] - 64s 81ms/step - loss: 0.9512 - accuracy: 0.6982 - val_loss: 0.9089 - val_accuracy: 0.7194\n",
            "\n",
            "Epoch 00002: val_loss improved from 0.92937 to 0.90889, saving model to model/cifar-10-02-0.9089.hdf5\n",
            "Epoch 3/50\n",
            "781/781 [==============================] - 63s 81ms/step - loss: 0.8942 - accuracy: 0.7193 - val_loss: 0.8520 - val_accuracy: 0.7447\n",
            "\n",
            "Epoch 00003: val_loss improved from 0.90889 to 0.85195, saving model to model/cifar-10-03-0.8520.hdf5\n",
            "Epoch 4/50\n",
            "781/781 [==============================] - 64s 81ms/step - loss: 0.8414 - accuracy: 0.7378 - val_loss: 0.8874 - val_accuracy: 0.7302\n",
            "\n",
            "Epoch 00004: val_loss did not improve from 0.85195\n",
            "Epoch 5/50\n",
            "781/781 [==============================] - 65s 83ms/step - loss: 0.8062 - accuracy: 0.7505 - val_loss: 0.8301 - val_accuracy: 0.7510\n",
            "\n",
            "Epoch 00005: val_loss improved from 0.85195 to 0.83007, saving model to model/cifar-10-05-0.8301.hdf5\n",
            "Epoch 6/50\n",
            "781/781 [==============================] - 64s 82ms/step - loss: 0.7734 - accuracy: 0.7655 - val_loss: 0.6840 - val_accuracy: 0.8019\n",
            "\n",
            "Epoch 00006: val_loss improved from 0.83007 to 0.68400, saving model to model/cifar-10-06-0.6840.hdf5\n",
            "Epoch 7/50\n",
            "781/781 [==============================] - 64s 82ms/step - loss: 0.7539 - accuracy: 0.7713 - val_loss: 0.7562 - val_accuracy: 0.7815\n",
            "\n",
            "Epoch 00007: val_loss did not improve from 0.68400\n",
            "Epoch 8/50\n",
            "781/781 [==============================] - 63s 81ms/step - loss: 0.7297 - accuracy: 0.7778 - val_loss: 0.7332 - val_accuracy: 0.7865\n",
            "\n",
            "Epoch 00008: val_loss did not improve from 0.68400\n",
            "Epoch 9/50\n",
            "781/781 [==============================] - 61s 79ms/step - loss: 0.7115 - accuracy: 0.7869 - val_loss: 0.7280 - val_accuracy: 0.7823\n",
            "\n",
            "Epoch 00009: val_loss did not improve from 0.68400\n",
            "Epoch 10/50\n",
            "781/781 [==============================] - 62s 79ms/step - loss: 0.6882 - accuracy: 0.7934 - val_loss: 0.7060 - val_accuracy: 0.7952\n",
            "\n",
            "Epoch 00010: val_loss did not improve from 0.68400\n",
            "Epoch 11/50\n",
            "781/781 [==============================] - 60s 77ms/step - loss: 0.6795 - accuracy: 0.7986 - val_loss: 0.6552 - val_accuracy: 0.8148\n",
            "\n",
            "Epoch 00011: val_loss improved from 0.68400 to 0.65524, saving model to model/cifar-10-11-0.6552.hdf5\n",
            "Epoch 12/50\n",
            "781/781 [==============================] - 60s 77ms/step - loss: 0.6598 - accuracy: 0.8044 - val_loss: 0.7005 - val_accuracy: 0.8019\n",
            "\n",
            "Epoch 00012: val_loss did not improve from 0.65524\n",
            "Epoch 13/50\n",
            "781/781 [==============================] - 61s 78ms/step - loss: 0.6552 - accuracy: 0.8067 - val_loss: 0.6330 - val_accuracy: 0.8206\n",
            "\n",
            "Epoch 00013: val_loss improved from 0.65524 to 0.63298, saving model to model/cifar-10-13-0.6330.hdf5\n",
            "Epoch 14/50\n",
            "781/781 [==============================] - 61s 79ms/step - loss: 0.6417 - accuracy: 0.8106 - val_loss: 0.6987 - val_accuracy: 0.8057\n",
            "\n",
            "Epoch 00014: val_loss did not improve from 0.63298\n",
            "Epoch 15/50\n",
            "781/781 [==============================] - 62s 79ms/step - loss: 0.6299 - accuracy: 0.8157 - val_loss: 0.6377 - val_accuracy: 0.8189\n",
            "\n",
            "Epoch 00015: val_loss did not improve from 0.63298\n",
            "Epoch 16/50\n",
            "781/781 [==============================] - 61s 79ms/step - loss: 0.6227 - accuracy: 0.8164 - val_loss: 0.6011 - val_accuracy: 0.8342\n",
            "\n",
            "Epoch 00016: val_loss improved from 0.63298 to 0.60109, saving model to model/cifar-10-16-0.6011.hdf5\n",
            "Epoch 17/50\n",
            "781/781 [==============================] - 60s 77ms/step - loss: 0.6113 - accuracy: 0.8224 - val_loss: 0.6281 - val_accuracy: 0.8228\n",
            "\n",
            "Epoch 00017: val_loss did not improve from 0.60109\n",
            "Epoch 18/50\n",
            "781/781 [==============================] - 60s 77ms/step - loss: 0.6075 - accuracy: 0.8234 - val_loss: 0.6307 - val_accuracy: 0.8242\n",
            "\n",
            "Epoch 00018: val_loss did not improve from 0.60109\n",
            "Epoch 19/50\n",
            "781/781 [==============================] - 60s 77ms/step - loss: 0.5966 - accuracy: 0.8267 - val_loss: 0.6092 - val_accuracy: 0.8326\n",
            "\n",
            "Epoch 00019: val_loss did not improve from 0.60109\n",
            "Epoch 20/50\n",
            "781/781 [==============================] - 62s 79ms/step - loss: 0.5886 - accuracy: 0.8277 - val_loss: 0.5688 - val_accuracy: 0.8412\n",
            "\n",
            "Epoch 00020: val_loss improved from 0.60109 to 0.56876, saving model to model/cifar-10-20-0.5688.hdf5\n",
            "Epoch 21/50\n",
            "781/781 [==============================] - 60s 77ms/step - loss: 0.5790 - accuracy: 0.8307 - val_loss: 0.5906 - val_accuracy: 0.8376\n",
            "\n",
            "Epoch 00021: val_loss did not improve from 0.56876\n",
            "Epoch 22/50\n",
            "781/781 [==============================] - 60s 76ms/step - loss: 0.5759 - accuracy: 0.8339 - val_loss: 0.5386 - val_accuracy: 0.8505\n",
            "\n",
            "Epoch 00022: val_loss improved from 0.56876 to 0.53861, saving model to model/cifar-10-22-0.5386.hdf5\n",
            "Epoch 23/50\n",
            "781/781 [==============================] - 60s 77ms/step - loss: 0.5711 - accuracy: 0.8350 - val_loss: 0.5692 - val_accuracy: 0.8404\n",
            "\n",
            "Epoch 00023: val_loss did not improve from 0.53861\n",
            "Epoch 24/50\n",
            "781/781 [==============================] - 60s 77ms/step - loss: 0.5602 - accuracy: 0.8397 - val_loss: 0.5722 - val_accuracy: 0.8441\n",
            "\n",
            "Epoch 00024: val_loss did not improve from 0.53861\n",
            "Epoch 25/50\n",
            "781/781 [==============================] - 62s 79ms/step - loss: 0.5522 - accuracy: 0.8394 - val_loss: 0.5429 - val_accuracy: 0.8494\n",
            "\n",
            "Epoch 00025: val_loss did not improve from 0.53861\n",
            "Epoch 26/50\n",
            "781/781 [==============================] - 60s 77ms/step - loss: 0.5504 - accuracy: 0.8408 - val_loss: 0.5867 - val_accuracy: 0.8336\n",
            "\n",
            "Epoch 00026: val_loss did not improve from 0.53861\n",
            "Epoch 27/50\n",
            "781/781 [==============================] - 61s 78ms/step - loss: 0.5451 - accuracy: 0.8421 - val_loss: 0.5546 - val_accuracy: 0.8518\n",
            "\n",
            "Epoch 00027: val_loss did not improve from 0.53861\n",
            "Epoch 28/50\n",
            "781/781 [==============================] - 60s 77ms/step - loss: 0.5359 - accuracy: 0.8454 - val_loss: 0.5392 - val_accuracy: 0.8533\n",
            "\n",
            "Epoch 00028: val_loss did not improve from 0.53861\n",
            "Epoch 29/50\n",
            "781/781 [==============================] - 61s 78ms/step - loss: 0.5338 - accuracy: 0.8448 - val_loss: 0.5471 - val_accuracy: 0.8482\n",
            "\n",
            "Epoch 00029: val_loss did not improve from 0.53861\n",
            "Epoch 30/50\n",
            "781/781 [==============================] - 62s 79ms/step - loss: 0.5342 - accuracy: 0.8469 - val_loss: 0.5412 - val_accuracy: 0.8504\n",
            "\n",
            "Epoch 00030: val_loss did not improve from 0.53861\n",
            "Epoch 31/50\n",
            "781/781 [==============================] - 61s 78ms/step - loss: 0.5315 - accuracy: 0.8476 - val_loss: 0.5448 - val_accuracy: 0.8537\n",
            "\n",
            "Epoch 00031: val_loss did not improve from 0.53861\n",
            "Epoch 32/50\n",
            "781/781 [==============================] - 61s 78ms/step - loss: 0.5161 - accuracy: 0.8521 - val_loss: 0.5735 - val_accuracy: 0.8451\n",
            "\n",
            "Epoch 00032: val_loss did not improve from 0.53861\n"
          ],
          "name": "stdout"
        }
      ]
    },
    {
      "cell_type": "code",
      "metadata": {
        "id": "hkJrx3CCNVlS",
        "colab_type": "code",
        "colab": {
          "base_uri": "https://localhost:8080/",
          "height": 53
        },
        "outputId": "18f89298-e4ff-476d-8577-ae3a7ee383de"
      },
      "source": [
        "scores = model.evaluate(X_test, Y_test, batch_size=128, verbose=2)\n",
        "print('\\nAccuracy: %.4f' % scores[1])"
      ],
      "execution_count": 33,
      "outputs": [
        {
          "output_type": "stream",
          "text": [
            "\n",
            "Accuracy: 0.8451\n"
          ],
          "name": "stdout"
        }
      ]
    },
    {
      "cell_type": "code",
      "metadata": {
        "id": "kO-Wy_OfNVnk",
        "colab_type": "code",
        "colab": {}
      },
      "source": [
        "model.save_weights('model/cifar10-full-v3.h5')"
      ],
      "execution_count": 34,
      "outputs": []
    },
    {
      "cell_type": "code",
      "metadata": {
        "id": "CqmRnJZnNVp7",
        "colab_type": "code",
        "colab": {}
      },
      "source": [
        ""
      ],
      "execution_count": null,
      "outputs": []
    },
    {
      "cell_type": "code",
      "metadata": {
        "id": "5_975KSpNFGb",
        "colab_type": "code",
        "colab": {}
      },
      "source": [
        ""
      ],
      "execution_count": null,
      "outputs": []
    },
    {
      "cell_type": "code",
      "metadata": {
        "id": "jKcXp75TNFJA",
        "colab_type": "code",
        "colab": {}
      },
      "source": [
        ""
      ],
      "execution_count": null,
      "outputs": []
    },
    {
      "cell_type": "code",
      "metadata": {
        "id": "JJPpgDJvNFLF",
        "colab_type": "code",
        "colab": {}
      },
      "source": [
        ""
      ],
      "execution_count": null,
      "outputs": []
    }
  ]
}