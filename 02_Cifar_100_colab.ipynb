{
  "nbformat": 4,
  "nbformat_minor": 0,
  "metadata": {
    "colab": {
      "name": "02. Cifar-100_colab.ipynb",
      "provenance": [],
      "collapsed_sections": [],
      "authorship_tag": "ABX9TyOaBvYwp0pjIkiCnxcPFI10",
      "include_colab_link": true
    },
    "kernelspec": {
      "name": "python3",
      "display_name": "Python 3"
    },
    "accelerator": "GPU"
  },
  "cells": [
    {
      "cell_type": "markdown",
      "metadata": {
        "id": "view-in-github",
        "colab_type": "text"
      },
      "source": [
        "<a href=\"https://colab.research.google.com/github/chosk2719/Deep_learning-with-colab/blob/master/02_Cifar_100_colab.ipynb\" target=\"_parent\"><img src=\"https://colab.research.google.com/assets/colab-badge.svg\" alt=\"Open In Colab\"/></a>"
      ]
    },
    {
      "cell_type": "markdown",
      "metadata": {
        "id": "MxQU8DILpp9Z",
        "colab_type": "text"
      },
      "source": [
        "# Cifar-100"
      ]
    },
    {
      "cell_type": "code",
      "metadata": {
        "id": "CyjTxiMnyAv5",
        "colab_type": "code",
        "colab": {
          "base_uri": "https://localhost:8080/",
          "height": 35
        },
        "outputId": "1f5f6873-431f-412d-8416-ef68234c5410"
      },
      "source": [
        "!mkdir model"
      ],
      "execution_count": 47,
      "outputs": [
        {
          "output_type": "stream",
          "text": [
            "mkdir: cannot create directory ‘model’: File exists\n"
          ],
          "name": "stdout"
        }
      ]
    },
    {
      "cell_type": "code",
      "metadata": {
        "id": "KNLnvLoZyA0A",
        "colab_type": "code",
        "colab": {
          "base_uri": "https://localhost:8080/",
          "height": 71
        },
        "outputId": "720da074-5082-4d6c-e702-eeae24eeb2e4"
      },
      "source": [
        "!ls -l"
      ],
      "execution_count": 2,
      "outputs": [
        {
          "output_type": "stream",
          "text": [
            "total 8\n",
            "drwxr-xr-x 2 root root 4096 Jul  7 05:39 model\n",
            "drwxr-xr-x 1 root root 4096 Jun 26 16:26 sample_data\n"
          ],
          "name": "stdout"
        }
      ]
    },
    {
      "cell_type": "code",
      "metadata": {
        "id": "E9Qex4dpplvI",
        "colab_type": "code",
        "colab": {
          "base_uri": "https://localhost:8080/",
          "height": 35
        },
        "outputId": "7e39642f-63b0-46e0-87a7-375694f9b31b"
      },
      "source": [
        "%tensorflow_version 2.x\n",
        "import tensorflow as tf\n",
        "device_name = tf.test.gpu_device_name()\n",
        "if device_name != '/device:GPU:0':\n",
        "    raise SystemError('GPU device not found')\n",
        "print('Found GPU at: {}'.format(device_name))"
      ],
      "execution_count": 11,
      "outputs": [
        {
          "output_type": "stream",
          "text": [
            "Found GPU at: /device:GPU:0\n"
          ],
          "name": "stdout"
        }
      ]
    },
    {
      "cell_type": "code",
      "metadata": {
        "id": "d75Kdzffp2wx",
        "colab_type": "code",
        "colab": {
          "base_uri": "https://localhost:8080/",
          "height": 145
        },
        "outputId": "8732ef92-69d2-488b-8cae-7701503f2a2e"
      },
      "source": [
        "%tensorflow_version 2.x\n",
        "import tensorflow as tf\n",
        "import timeit\n",
        "\n",
        "device_name = tf.test.gpu_device_name()\n",
        "if device_name != '/device:GPU:0':\n",
        "  print(\n",
        "      '\\n\\nThis error most likely means that this notebook is not '\n",
        "      'configured to use a GPU.  Change this in Notebook Settings via the '\n",
        "      'command palette (cmd/ctrl-shift-P) or the Edit menu.\\n\\n')\n",
        "  raise SystemError('GPU device not found')\n",
        "\n",
        "def cpu():\n",
        "  with tf.device('/cpu:0'):\n",
        "    random_image_cpu = tf.random.normal((100, 100, 100, 3))\n",
        "    net_cpu = tf.keras.layers.Conv2D(32, 7)(random_image_cpu)\n",
        "    return tf.math.reduce_sum(net_cpu)\n",
        "\n",
        "def gpu():\n",
        "  with tf.device('/device:GPU:0'):\n",
        "    random_image_gpu = tf.random.normal((100, 100, 100, 3))\n",
        "    net_gpu = tf.keras.layers.Conv2D(32, 7)(random_image_gpu)\n",
        "    return tf.math.reduce_sum(net_gpu)\n",
        "  \n",
        "# We run each op once to warm up; see: https://stackoverflow.com/a/45067900\n",
        "cpu()\n",
        "gpu()\n",
        "\n",
        "# Run the op several times.\n",
        "print('Time (s) to convolve 32x7x7x3 filter over random 100x100x100x3 images '\n",
        "      '(batch x height x width x channel). Sum of ten runs.')\n",
        "print('CPU (s):')\n",
        "cpu_time = timeit.timeit('cpu()', number=10, setup=\"from __main__ import cpu\")\n",
        "print(cpu_time)\n",
        "print('GPU (s):')\n",
        "gpu_time = timeit.timeit('gpu()', number=10, setup=\"from __main__ import gpu\")\n",
        "print(gpu_time)\n",
        "print('GPU speedup over CPU: {}x'.format(int(cpu_time/gpu_time)))"
      ],
      "execution_count": 12,
      "outputs": [
        {
          "output_type": "stream",
          "text": [
            "Time (s) to convolve 32x7x7x3 filter over random 100x100x100x3 images (batch x height x width x channel). Sum of ten runs.\n",
            "CPU (s):\n",
            "3.187324992000015\n",
            "GPU (s):\n",
            "0.09875693499998306\n",
            "GPU speedup over CPU: 32x\n"
          ],
          "name": "stdout"
        }
      ]
    },
    {
      "cell_type": "code",
      "metadata": {
        "id": "QlITZXSPp21Q",
        "colab_type": "code",
        "colab": {
          "base_uri": "https://localhost:8080/",
          "height": 53
        },
        "outputId": "7ce1e721-bad6-41f3-80b6-63f3bcc36274"
      },
      "source": [
        "from tensorflow import  keras\n",
        "from tensorflow.keras.datasets import cifar100\n",
        "(X_train, y_train), (X_test, y_test) = cifar100.load_data(label_mode='fine')"
      ],
      "execution_count": 13,
      "outputs": [
        {
          "output_type": "stream",
          "text": [
            "Downloading data from https://www.cs.toronto.edu/~kriz/cifar-100-python.tar.gz\n",
            "169009152/169001437 [==============================] - 6s 0us/step\n"
          ],
          "name": "stdout"
        }
      ]
    },
    {
      "cell_type": "code",
      "metadata": {
        "id": "eK-jCVRTsWrz",
        "colab_type": "code",
        "colab": {
          "base_uri": "https://localhost:8080/",
          "height": 35
        },
        "outputId": "db4f9917-fd2c-4610-8b62-d6231444496b"
      },
      "source": [
        "X_train.shape, X_test.shape"
      ],
      "execution_count": 14,
      "outputs": [
        {
          "output_type": "execute_result",
          "data": {
            "text/plain": [
              "((50000, 32, 32, 3), (10000, 32, 32, 3))"
            ]
          },
          "metadata": {
            "tags": []
          },
          "execution_count": 14
        }
      ]
    },
    {
      "cell_type": "code",
      "metadata": {
        "id": "LtY1lZp7sWt6",
        "colab_type": "code",
        "colab": {
          "base_uri": "https://localhost:8080/",
          "height": 197
        },
        "outputId": "9bf731f3-e81e-40ac-ed37-2ebf871667a3"
      },
      "source": [
        "y_train[:10]"
      ],
      "execution_count": 15,
      "outputs": [
        {
          "output_type": "execute_result",
          "data": {
            "text/plain": [
              "array([[19],\n",
              "       [29],\n",
              "       [ 0],\n",
              "       [11],\n",
              "       [ 1],\n",
              "       [86],\n",
              "       [90],\n",
              "       [28],\n",
              "       [23],\n",
              "       [31]])"
            ]
          },
          "metadata": {
            "tags": []
          },
          "execution_count": 15
        }
      ]
    },
    {
      "cell_type": "code",
      "metadata": {
        "id": "TaMPI8dosWwQ",
        "colab_type": "code",
        "colab": {
          "base_uri": "https://localhost:8080/",
          "height": 124
        },
        "outputId": "fd836401-05a4-4260-c0d5-52d31298be68"
      },
      "source": [
        "import matplotlib as mpl\n",
        "import matplotlib.pyplot as plt\n",
        "%matplotlib inline\n",
        "\n",
        "plt.subplot(141)\n",
        "plt.imshow(X_train[0], interpolation=\"bicubic\")\n",
        "plt.grid(False)\n",
        "plt.subplot(142)\n",
        "plt.imshow(X_train[4], interpolation=\"bicubic\")\n",
        "plt.grid(False)\n",
        "plt.subplot(143)\n",
        "plt.imshow(X_train[8], interpolation=\"bicubic\")\n",
        "plt.grid(False)\n",
        "plt.subplot(144)\n",
        "plt.imshow(X_train[12], interpolation=\"bicubic\")\n",
        "plt.grid(False)\n",
        "plt.show()"
      ],
      "execution_count": 16,
      "outputs": [
        {
          "output_type": "display_data",
          "data": {
            "image/png": "[encoded data removed]",
            "text/plain": [
              "<Figure size 432x288 with 4 Axes>"
            ]
          },
          "metadata": {
            "tags": [],
            "needs_background": "light"
          }
        }
      ]
    },
    {
      "cell_type": "code",
      "metadata": {
        "id": "qCccnpA3sWyq",
        "colab_type": "code",
        "colab": {
          "base_uri": "https://localhost:8080/",
          "height": 35
        },
        "outputId": "bc46cb4b-3ac3-45db-99ae-aa53b8965348"
      },
      "source": [
        "y_train[0], y_train[4], y_train[8], y_train[12]"
      ],
      "execution_count": 17,
      "outputs": [
        {
          "output_type": "execute_result",
          "data": {
            "text/plain": [
              "(array([19]), array([1]), array([23]), array([82]))"
            ]
          },
          "metadata": {
            "tags": []
          },
          "execution_count": 17
        }
      ]
    },
    {
      "cell_type": "code",
      "metadata": {
        "id": "13QWfQuzsW1C",
        "colab_type": "code",
        "colab": {
          "base_uri": "https://localhost:8080/",
          "height": 35
        },
        "outputId": "fd41a2ed-2078-4de1-c23a-b5ac930755a8"
      },
      "source": [
        "X_train = X_train.astype('float32')/255.0\n",
        "X_test = X_test.astype('float32')/255.0\n",
        "\n",
        "print(X_train.shape, X_train.dtype)"
      ],
      "execution_count": 18,
      "outputs": [
        {
          "output_type": "stream",
          "text": [
            "(50000, 32, 32, 3) float32\n"
          ],
          "name": "stdout"
        }
      ]
    },
    {
      "cell_type": "code",
      "metadata": {
        "id": "PL7i21UksW3a",
        "colab_type": "code",
        "colab": {
          "base_uri": "https://localhost:8080/",
          "height": 269
        },
        "outputId": "b87a1c11-bc04-4c3f-e4f0-cff67709dbf8"
      },
      "source": [
        "Y_train = tf.keras.utils.to_categorical(y_train, 100)\n",
        "Y_test = tf.keras.utils.to_categorical(y_test, 100)\n",
        "Y_train[:2]"
      ],
      "execution_count": 19,
      "outputs": [
        {
          "output_type": "execute_result",
          "data": {
            "text/plain": [
              "array([[0., 0., 0., 0., 0., 0., 0., 0., 0., 0., 0., 0., 0., 0., 0., 0.,\n",
              "        0., 0., 0., 1., 0., 0., 0., 0., 0., 0., 0., 0., 0., 0., 0., 0.,\n",
              "        0., 0., 0., 0., 0., 0., 0., 0., 0., 0., 0., 0., 0., 0., 0., 0.,\n",
              "        0., 0., 0., 0., 0., 0., 0., 0., 0., 0., 0., 0., 0., 0., 0., 0.,\n",
              "        0., 0., 0., 0., 0., 0., 0., 0., 0., 0., 0., 0., 0., 0., 0., 0.,\n",
              "        0., 0., 0., 0., 0., 0., 0., 0., 0., 0., 0., 0., 0., 0., 0., 0.,\n",
              "        0., 0., 0., 0.],\n",
              "       [0., 0., 0., 0., 0., 0., 0., 0., 0., 0., 0., 0., 0., 0., 0., 0.,\n",
              "        0., 0., 0., 0., 0., 0., 0., 0., 0., 0., 0., 0., 0., 1., 0., 0.,\n",
              "        0., 0., 0., 0., 0., 0., 0., 0., 0., 0., 0., 0., 0., 0., 0., 0.,\n",
              "        0., 0., 0., 0., 0., 0., 0., 0., 0., 0., 0., 0., 0., 0., 0., 0.,\n",
              "        0., 0., 0., 0., 0., 0., 0., 0., 0., 0., 0., 0., 0., 0., 0., 0.,\n",
              "        0., 0., 0., 0., 0., 0., 0., 0., 0., 0., 0., 0., 0., 0., 0., 0.,\n",
              "        0., 0., 0., 0.]], dtype=float32)"
            ]
          },
          "metadata": {
            "tags": []
          },
          "execution_count": 19
        }
      ]
    },
    {
      "cell_type": "code",
      "metadata": {
        "id": "pX2PIBzKsW5r",
        "colab_type": "code",
        "colab": {}
      },
      "source": [
        "from tensorflow.keras.models import Sequential\n",
        "from tensorflow.keras.layers import Conv2D, MaxPooling2D, Flatten, Dense, Dropout\n",
        "from tensorflow.keras.layers import Activation"
      ],
      "execution_count": 20,
      "outputs": []
    },
    {
      "cell_type": "code",
      "metadata": {
        "id": "n4bp-L1Psnv4",
        "colab_type": "code",
        "colab": {}
      },
      "source": [
        ""
      ],
      "execution_count": 20,
      "outputs": []
    },
    {
      "cell_type": "code",
      "metadata": {
        "id": "Ex0vhdlGsW8A",
        "colab_type": "code",
        "colab": {
          "base_uri": "https://localhost:8080/",
          "height": 845
        },
        "outputId": "963aaf33-80bf-4d64-b097-66d05fb83b03"
      },
      "source": [
        "model = Sequential()\n",
        "\n",
        "# Input Layer\n",
        "model.add(Conv2D(32, (3,3), padding='same', input_shape = X_train.shape[1:]))\n",
        "model.add(Activation('relu'))\n",
        "# MAXPOOL Layer 1\n",
        "model.add(MaxPooling2D(pool_size=(2, 2)))\n",
        "model.add(Activation('relu'))\n",
        "# CONV2D Layer 2\n",
        "model.add(Conv2D(64, (3,3), padding='same'))\n",
        "model.add(Activation('relu'))\n",
        "# MAXPOOL Layer 2\n",
        "model.add(MaxPooling2D(pool_size=(2, 2)))\n",
        "model.add(Activation('relu'))\n",
        "# Add a dropout of 10%\n",
        "model.add(Dropout(0.1))\n",
        "# CONV2D Layer 3\n",
        "model.add(Conv2D(128, (3,3), padding='same'))\n",
        "model.add(Activation('relu'))\n",
        "# MAXPOOL Layer 3\n",
        "model.add(MaxPooling2D(pool_size=(2,2)))\n",
        "# Add dropout of 25%\n",
        "model.add(Dropout(0.25))\n",
        "# flatten \n",
        "model.add(Flatten())\n",
        "# Fully Connected Layer 1\n",
        "model.add(Dense(512))\n",
        "model.add(Activation('relu'))\n",
        "# Adding a dropout of 50%\n",
        "model.add(Dropout(0.5))\n",
        "# Output Layer (Fully Connected Layer 2) \n",
        "model.add(Dense(100))\n",
        "model.add(Activation('softmax'))\n",
        "          \n",
        "model.summary()"
      ],
      "execution_count": 21,
      "outputs": [
        {
          "output_type": "stream",
          "text": [
            "Model: \"sequential\"\n",
            "_________________________________________________________________\n",
            "Layer (type)                 Output Shape              Param #   \n",
            "=================================================================\n",
            "conv2d_22 (Conv2D)           (None, 32, 32, 32)        896       \n",
            "_________________________________________________________________\n",
            "activation (Activation)      (None, 32, 32, 32)        0         \n",
            "_________________________________________________________________\n",
            "max_pooling2d (MaxPooling2D) (None, 16, 16, 32)        0         \n",
            "_________________________________________________________________\n",
            "activation_1 (Activation)    (None, 16, 16, 32)        0         \n",
            "_________________________________________________________________\n",
            "conv2d_23 (Conv2D)           (None, 16, 16, 64)        18496     \n",
            "_________________________________________________________________\n",
            "activation_2 (Activation)    (None, 16, 16, 64)        0         \n",
            "_________________________________________________________________\n",
            "max_pooling2d_1 (MaxPooling2 (None, 8, 8, 64)          0         \n",
            "_________________________________________________________________\n",
            "activation_3 (Activation)    (None, 8, 8, 64)          0         \n",
            "_________________________________________________________________\n",
            "dropout (Dropout)            (None, 8, 8, 64)          0         \n",
            "_________________________________________________________________\n",
            "conv2d_24 (Conv2D)           (None, 8, 8, 128)         73856     \n",
            "_________________________________________________________________\n",
            "activation_4 (Activation)    (None, 8, 8, 128)         0         \n",
            "_________________________________________________________________\n",
            "max_pooling2d_2 (MaxPooling2 (None, 4, 4, 128)         0         \n",
            "_________________________________________________________________\n",
            "dropout_1 (Dropout)          (None, 4, 4, 128)         0         \n",
            "_________________________________________________________________\n",
            "flatten (Flatten)            (None, 2048)              0         \n",
            "_________________________________________________________________\n",
            "dense (Dense)                (None, 512)               1049088   \n",
            "_________________________________________________________________\n",
            "activation_5 (Activation)    (None, 512)               0         \n",
            "_________________________________________________________________\n",
            "dropout_2 (Dropout)          (None, 512)               0         \n",
            "_________________________________________________________________\n",
            "dense_1 (Dense)              (None, 100)               51300     \n",
            "_________________________________________________________________\n",
            "activation_6 (Activation)    (None, 100)               0         \n",
            "=================================================================\n",
            "Total params: 1,193,636\n",
            "Trainable params: 1,193,636\n",
            "Non-trainable params: 0\n",
            "_________________________________________________________________\n"
          ],
          "name": "stdout"
        }
      ]
    },
    {
      "cell_type": "code",
      "metadata": {
        "id": "cz0u94UhsW-c",
        "colab_type": "code",
        "colab": {}
      },
      "source": [
        "opt = tf.keras.optimizers.Adam(lr=0.0001)\n",
        "model.compile(loss='categorical_crossentropy', optimizer=opt, metrics=['accuracy'])"
      ],
      "execution_count": 22,
      "outputs": []
    },
    {
      "cell_type": "code",
      "metadata": {
        "id": "1wSE9Vutyc8P",
        "colab_type": "code",
        "colab": {}
      },
      "source": [
        "from tensorflow.keras.callbacks import ModelCheckpoint, EarlyStopping\n",
        "import os"
      ],
      "execution_count": 30,
      "outputs": []
    },
    {
      "cell_type": "code",
      "metadata": {
        "id": "3i4wrXe10XpZ",
        "colab_type": "code",
        "colab": {}
      },
      "source": [
        "modelpath = \"model/-cnn-{epoch:02d}-{val_loss:.4f}.hdf5\"\n",
        "checkpointer = ModelCheckpoint(filepath=modelpath, monitor='val_loss', \n",
        "                               verbose=1, save_best_only=True)\n",
        "early_stopping_callback = EarlyStopping(monitor='val_loss', patience=20)"
      ],
      "execution_count": 31,
      "outputs": []
    },
    {
      "cell_type": "code",
      "metadata": {
        "id": "F7IJg1easXAw",
        "colab_type": "code",
        "colab": {
          "base_uri": "https://localhost:8080/",
          "height": 1000
        },
        "outputId": "6082b098-b565-45fb-8dc4-dff483b377c7"
      },
      "source": [
        "history = model.fit(X_train, Y_train, epochs=300, batch_size=50, validation_data=(X_test, Y_test), \n",
        "                    callbacks=[checkpointer, early_stopping_callback])"
      ],
      "execution_count": 33,
      "outputs": [
        {
          "output_type": "stream",
          "text": [
            "Epoch 1/300\n",
            "1000/1000 [==============================] - ETA: 0s - loss: 3.8881 - accuracy: 0.1096\n",
            "Epoch 00001: val_loss improved from inf to 3.60274, saving model to model/-cnn-01-3.6027.hdf5\n",
            "1000/1000 [==============================] - 6s 6ms/step - loss: 3.8881 - accuracy: 0.1096 - val_loss: 3.6027 - val_accuracy: 0.1685\n",
            "Epoch 2/300\n",
            " 995/1000 [============================>.] - ETA: 0s - loss: 3.6533 - accuracy: 0.1465\n",
            "Epoch 00002: val_loss improved from 3.60274 to 3.43480, saving model to model/-cnn-02-3.4348.hdf5\n",
            "1000/1000 [==============================] - 6s 6ms/step - loss: 3.6525 - accuracy: 0.1466 - val_loss: 3.4348 - val_accuracy: 0.1945\n",
            "Epoch 3/300\n",
            "1000/1000 [==============================] - ETA: 0s - loss: 3.4966 - accuracy: 0.1696\n",
            "Epoch 00003: val_loss improved from 3.43480 to 3.26777, saving model to model/-cnn-03-3.2678.hdf5\n",
            "1000/1000 [==============================] - 6s 6ms/step - loss: 3.4966 - accuracy: 0.1696 - val_loss: 3.2678 - val_accuracy: 0.2260\n",
            "Epoch 4/300\n",
            " 998/1000 [============================>.] - ETA: 0s - loss: 3.3724 - accuracy: 0.1907\n",
            "Epoch 00004: val_loss improved from 3.26777 to 3.16484, saving model to model/-cnn-04-3.1648.hdf5\n",
            "1000/1000 [==============================] - 6s 6ms/step - loss: 3.3722 - accuracy: 0.1908 - val_loss: 3.1648 - val_accuracy: 0.2456\n",
            "Epoch 5/300\n",
            " 997/1000 [============================>.] - ETA: 0s - loss: 3.2557 - accuracy: 0.2147\n",
            "Epoch 00005: val_loss improved from 3.16484 to 3.07388, saving model to model/-cnn-05-3.0739.hdf5\n",
            "1000/1000 [==============================] - 6s 6ms/step - loss: 3.2560 - accuracy: 0.2148 - val_loss: 3.0739 - val_accuracy: 0.2598\n",
            "Epoch 6/300\n",
            " 997/1000 [============================>.] - ETA: 0s - loss: 3.1622 - accuracy: 0.2323\n",
            "Epoch 00006: val_loss improved from 3.07388 to 2.98452, saving model to model/-cnn-06-2.9845.hdf5\n",
            "1000/1000 [==============================] - 6s 6ms/step - loss: 3.1625 - accuracy: 0.2322 - val_loss: 2.9845 - val_accuracy: 0.2766\n",
            "Epoch 7/300\n",
            "1000/1000 [==============================] - ETA: 0s - loss: 3.0786 - accuracy: 0.2476\n",
            "Epoch 00007: val_loss improved from 2.98452 to 2.91308, saving model to model/-cnn-07-2.9131.hdf5\n",
            "1000/1000 [==============================] - 6s 6ms/step - loss: 3.0786 - accuracy: 0.2476 - val_loss: 2.9131 - val_accuracy: 0.2928\n",
            "Epoch 8/300\n",
            " 994/1000 [============================>.] - ETA: 0s - loss: 3.0021 - accuracy: 0.2614\n",
            "Epoch 00008: val_loss improved from 2.91308 to 2.82627, saving model to model/-cnn-08-2.8263.hdf5\n",
            "1000/1000 [==============================] - 6s 6ms/step - loss: 3.0015 - accuracy: 0.2616 - val_loss: 2.8263 - val_accuracy: 0.3040\n",
            "Epoch 9/300\n",
            " 997/1000 [============================>.] - ETA: 0s - loss: 2.9351 - accuracy: 0.2739\n",
            "Epoch 00009: val_loss improved from 2.82627 to 2.79315, saving model to model/-cnn-09-2.7931.hdf5\n",
            "1000/1000 [==============================] - 6s 6ms/step - loss: 2.9345 - accuracy: 0.2740 - val_loss: 2.7931 - val_accuracy: 0.3141\n",
            "Epoch 10/300\n",
            "1000/1000 [==============================] - ETA: 0s - loss: 2.8750 - accuracy: 0.2845\n",
            "Epoch 00010: val_loss improved from 2.79315 to 2.73038, saving model to model/-cnn-10-2.7304.hdf5\n",
            "1000/1000 [==============================] - 6s 6ms/step - loss: 2.8750 - accuracy: 0.2845 - val_loss: 2.7304 - val_accuracy: 0.3254\n",
            "Epoch 11/300\n",
            "1000/1000 [==============================] - ETA: 0s - loss: 2.8139 - accuracy: 0.2947\n",
            "Epoch 00011: val_loss improved from 2.73038 to 2.67085, saving model to model/-cnn-11-2.6708.hdf5\n",
            "1000/1000 [==============================] - 6s 6ms/step - loss: 2.8139 - accuracy: 0.2947 - val_loss: 2.6708 - val_accuracy: 0.3361\n",
            "Epoch 12/300\n",
            " 993/1000 [============================>.] - ETA: 0s - loss: 2.7627 - accuracy: 0.3079\n",
            "Epoch 00012: val_loss improved from 2.67085 to 2.62269, saving model to model/-cnn-12-2.6227.hdf5\n",
            "1000/1000 [==============================] - 6s 6ms/step - loss: 2.7626 - accuracy: 0.3077 - val_loss: 2.6227 - val_accuracy: 0.3463\n",
            "Epoch 13/300\n",
            " 992/1000 [============================>.] - ETA: 0s - loss: 2.7132 - accuracy: 0.3166\n",
            "Epoch 00013: val_loss improved from 2.62269 to 2.57052, saving model to model/-cnn-13-2.5705.hdf5\n",
            "1000/1000 [==============================] - 7s 7ms/step - loss: 2.7130 - accuracy: 0.3168 - val_loss: 2.5705 - val_accuracy: 0.3552\n",
            "Epoch 14/300\n",
            " 996/1000 [============================>.] - ETA: 0s - loss: 2.6625 - accuracy: 0.3266\n",
            "Epoch 00014: val_loss improved from 2.57052 to 2.55555, saving model to model/-cnn-14-2.5555.hdf5\n",
            "1000/1000 [==============================] - 6s 6ms/step - loss: 2.6624 - accuracy: 0.3267 - val_loss: 2.5555 - val_accuracy: 0.3596\n",
            "Epoch 15/300\n",
            " 994/1000 [============================>.] - ETA: 0s - loss: 2.6220 - accuracy: 0.3354\n",
            "Epoch 00015: val_loss improved from 2.55555 to 2.51589, saving model to model/-cnn-15-2.5159.hdf5\n",
            "1000/1000 [==============================] - 6s 6ms/step - loss: 2.6217 - accuracy: 0.3357 - val_loss: 2.5159 - val_accuracy: 0.3718\n",
            "Epoch 16/300\n",
            "1000/1000 [==============================] - ETA: 0s - loss: 2.5747 - accuracy: 0.3441\n",
            "Epoch 00016: val_loss improved from 2.51589 to 2.47469, saving model to model/-cnn-16-2.4747.hdf5\n",
            "1000/1000 [==============================] - 6s 6ms/step - loss: 2.5747 - accuracy: 0.3441 - val_loss: 2.4747 - val_accuracy: 0.3744\n",
            "Epoch 17/300\n",
            " 995/1000 [============================>.] - ETA: 0s - loss: 2.5328 - accuracy: 0.3565\n",
            "Epoch 00017: val_loss improved from 2.47469 to 2.44514, saving model to model/-cnn-17-2.4451.hdf5\n",
            "1000/1000 [==============================] - 6s 6ms/step - loss: 2.5331 - accuracy: 0.3564 - val_loss: 2.4451 - val_accuracy: 0.3875\n",
            "Epoch 18/300\n",
            " 991/1000 [============================>.] - ETA: 0s - loss: 2.4947 - accuracy: 0.3629\n",
            "Epoch 00018: val_loss improved from 2.44514 to 2.41923, saving model to model/-cnn-18-2.4192.hdf5\n",
            "1000/1000 [==============================] - 6s 6ms/step - loss: 2.4950 - accuracy: 0.3629 - val_loss: 2.4192 - val_accuracy: 0.3902\n",
            "Epoch 19/300\n",
            " 994/1000 [============================>.] - ETA: 0s - loss: 2.4561 - accuracy: 0.3697\n",
            "Epoch 00019: val_loss improved from 2.41923 to 2.38425, saving model to model/-cnn-19-2.3843.hdf5\n",
            "1000/1000 [==============================] - 6s 6ms/step - loss: 2.4571 - accuracy: 0.3696 - val_loss: 2.3843 - val_accuracy: 0.3982\n",
            "Epoch 20/300\n",
            " 992/1000 [============================>.] - ETA: 0s - loss: 2.4169 - accuracy: 0.3797\n",
            "Epoch 00020: val_loss improved from 2.38425 to 2.35342, saving model to model/-cnn-20-2.3534.hdf5\n",
            "1000/1000 [==============================] - 6s 6ms/step - loss: 2.4167 - accuracy: 0.3797 - val_loss: 2.3534 - val_accuracy: 0.4009\n",
            "Epoch 21/300\n",
            " 995/1000 [============================>.] - ETA: 0s - loss: 2.3815 - accuracy: 0.3874\n",
            "Epoch 00021: val_loss improved from 2.35342 to 2.33973, saving model to model/-cnn-21-2.3397.hdf5\n",
            "1000/1000 [==============================] - 6s 6ms/step - loss: 2.3823 - accuracy: 0.3872 - val_loss: 2.3397 - val_accuracy: 0.4094\n",
            "Epoch 22/300\n",
            " 996/1000 [============================>.] - ETA: 0s - loss: 2.3470 - accuracy: 0.3927\n",
            "Epoch 00022: val_loss improved from 2.33973 to 2.30552, saving model to model/-cnn-22-2.3055.hdf5\n",
            "1000/1000 [==============================] - 6s 6ms/step - loss: 2.3468 - accuracy: 0.3927 - val_loss: 2.3055 - val_accuracy: 0.4117\n",
            "Epoch 23/300\n",
            " 995/1000 [============================>.] - ETA: 0s - loss: 2.3150 - accuracy: 0.3985\n",
            "Epoch 00023: val_loss did not improve from 2.30552\n",
            "1000/1000 [==============================] - 6s 6ms/step - loss: 2.3156 - accuracy: 0.3983 - val_loss: 2.3112 - val_accuracy: 0.4119\n",
            "Epoch 24/300\n",
            " 991/1000 [============================>.] - ETA: 0s - loss: 2.2899 - accuracy: 0.4058\n",
            "Epoch 00024: val_loss improved from 2.30552 to 2.28255, saving model to model/-cnn-24-2.2826.hdf5\n",
            "1000/1000 [==============================] - 6s 6ms/step - loss: 2.2884 - accuracy: 0.4062 - val_loss: 2.2826 - val_accuracy: 0.4156\n",
            "Epoch 25/300\n",
            " 999/1000 [============================>.] - ETA: 0s - loss: 2.2523 - accuracy: 0.4141\n",
            "Epoch 00025: val_loss improved from 2.28255 to 2.24453, saving model to model/-cnn-25-2.2445.hdf5\n",
            "1000/1000 [==============================] - 6s 6ms/step - loss: 2.2524 - accuracy: 0.4141 - val_loss: 2.2445 - val_accuracy: 0.4240\n",
            "Epoch 26/300\n",
            "1000/1000 [==============================] - ETA: 0s - loss: 2.2251 - accuracy: 0.4178\n",
            "Epoch 00026: val_loss improved from 2.24453 to 2.24293, saving model to model/-cnn-26-2.2429.hdf5\n",
            "1000/1000 [==============================] - 6s 6ms/step - loss: 2.2251 - accuracy: 0.4178 - val_loss: 2.2429 - val_accuracy: 0.4258\n",
            "Epoch 27/300\n",
            " 998/1000 [============================>.] - ETA: 0s - loss: 2.2000 - accuracy: 0.4248\n",
            "Epoch 00027: val_loss improved from 2.24293 to 2.21720, saving model to model/-cnn-27-2.2172.hdf5\n",
            "1000/1000 [==============================] - 6s 6ms/step - loss: 2.1995 - accuracy: 0.4250 - val_loss: 2.2172 - val_accuracy: 0.4320\n",
            "Epoch 28/300\n",
            " 992/1000 [============================>.] - ETA: 0s - loss: 2.1709 - accuracy: 0.4312\n",
            "Epoch 00028: val_loss improved from 2.21720 to 2.20871, saving model to model/-cnn-28-2.2087.hdf5\n",
            "1000/1000 [==============================] - 6s 6ms/step - loss: 2.1721 - accuracy: 0.4309 - val_loss: 2.2087 - val_accuracy: 0.4328\n",
            "Epoch 29/300\n",
            " 996/1000 [============================>.] - ETA: 0s - loss: 2.1417 - accuracy: 0.4316\n",
            "Epoch 00029: val_loss improved from 2.20871 to 2.18049, saving model to model/-cnn-29-2.1805.hdf5\n",
            "1000/1000 [==============================] - 6s 6ms/step - loss: 2.1419 - accuracy: 0.4317 - val_loss: 2.1805 - val_accuracy: 0.4386\n",
            "Epoch 30/300\n",
            "1000/1000 [==============================] - ETA: 0s - loss: 2.1130 - accuracy: 0.4430\n",
            "Epoch 00030: val_loss improved from 2.18049 to 2.16096, saving model to model/-cnn-30-2.1610.hdf5\n",
            "1000/1000 [==============================] - 6s 6ms/step - loss: 2.1130 - accuracy: 0.4430 - val_loss: 2.1610 - val_accuracy: 0.4431\n",
            "Epoch 31/300\n",
            " 996/1000 [============================>.] - ETA: 0s - loss: 2.0887 - accuracy: 0.4468\n",
            "Epoch 00031: val_loss improved from 2.16096 to 2.15174, saving model to model/-cnn-31-2.1517.hdf5\n",
            "1000/1000 [==============================] - 6s 6ms/step - loss: 2.0883 - accuracy: 0.4469 - val_loss: 2.1517 - val_accuracy: 0.4456\n",
            "Epoch 32/300\n",
            "1000/1000 [==============================] - ETA: 0s - loss: 2.0637 - accuracy: 0.4528\n",
            "Epoch 00032: val_loss improved from 2.15174 to 2.13748, saving model to model/-cnn-32-2.1375.hdf5\n",
            "1000/1000 [==============================] - 6s 6ms/step - loss: 2.0637 - accuracy: 0.4528 - val_loss: 2.1375 - val_accuracy: 0.4458\n",
            "Epoch 33/300\n",
            " 998/1000 [============================>.] - ETA: 0s - loss: 2.0337 - accuracy: 0.4599\n",
            "Epoch 00033: val_loss improved from 2.13748 to 2.12799, saving model to model/-cnn-33-2.1280.hdf5\n",
            "1000/1000 [==============================] - 6s 6ms/step - loss: 2.0340 - accuracy: 0.4599 - val_loss: 2.1280 - val_accuracy: 0.4506\n",
            "Epoch 34/300\n",
            " 995/1000 [============================>.] - ETA: 0s - loss: 2.0134 - accuracy: 0.4637\n",
            "Epoch 00034: val_loss improved from 2.12799 to 2.10649, saving model to model/-cnn-34-2.1065.hdf5\n",
            "1000/1000 [==============================] - 6s 6ms/step - loss: 2.0134 - accuracy: 0.4638 - val_loss: 2.1065 - val_accuracy: 0.4532\n",
            "Epoch 35/300\n",
            " 995/1000 [============================>.] - ETA: 0s - loss: 1.9863 - accuracy: 0.4681\n",
            "Epoch 00035: val_loss did not improve from 2.10649\n",
            "1000/1000 [==============================] - 6s 6ms/step - loss: 1.9868 - accuracy: 0.4679 - val_loss: 2.1176 - val_accuracy: 0.4533\n",
            "Epoch 36/300\n",
            " 991/1000 [============================>.] - ETA: 0s - loss: 1.9704 - accuracy: 0.4749\n",
            "Epoch 00036: val_loss improved from 2.10649 to 2.09079, saving model to model/-cnn-36-2.0908.hdf5\n",
            "1000/1000 [==============================] - 6s 6ms/step - loss: 1.9701 - accuracy: 0.4749 - val_loss: 2.0908 - val_accuracy: 0.4537\n",
            "Epoch 37/300\n",
            " 992/1000 [============================>.] - ETA: 0s - loss: 1.9430 - accuracy: 0.4801\n",
            "Epoch 00037: val_loss did not improve from 2.09079\n",
            "1000/1000 [==============================] - 6s 6ms/step - loss: 1.9439 - accuracy: 0.4799 - val_loss: 2.0943 - val_accuracy: 0.4573\n",
            "Epoch 38/300\n",
            " 999/1000 [============================>.] - ETA: 0s - loss: 1.9289 - accuracy: 0.4823\n",
            "Epoch 00038: val_loss did not improve from 2.09079\n",
            "1000/1000 [==============================] - 6s 6ms/step - loss: 1.9287 - accuracy: 0.4824 - val_loss: 2.0924 - val_accuracy: 0.4558\n",
            "Epoch 39/300\n",
            " 998/1000 [============================>.] - ETA: 0s - loss: 1.8921 - accuracy: 0.4886\n",
            "Epoch 00039: val_loss improved from 2.09079 to 2.07273, saving model to model/-cnn-39-2.0727.hdf5\n",
            "1000/1000 [==============================] - 6s 6ms/step - loss: 1.8920 - accuracy: 0.4886 - val_loss: 2.0727 - val_accuracy: 0.4614\n",
            "Epoch 40/300\n",
            " 998/1000 [============================>.] - ETA: 0s - loss: 1.8820 - accuracy: 0.4916\n",
            "Epoch 00040: val_loss improved from 2.07273 to 2.05703, saving model to model/-cnn-40-2.0570.hdf5\n",
            "1000/1000 [==============================] - 6s 6ms/step - loss: 1.8819 - accuracy: 0.4917 - val_loss: 2.0570 - val_accuracy: 0.4621\n",
            "Epoch 41/300\n",
            " 991/1000 [============================>.] - ETA: 0s - loss: 1.8539 - accuracy: 0.4963\n",
            "Epoch 00041: val_loss improved from 2.05703 to 2.05451, saving model to model/-cnn-41-2.0545.hdf5\n",
            "1000/1000 [==============================] - 6s 6ms/step - loss: 1.8542 - accuracy: 0.4961 - val_loss: 2.0545 - val_accuracy: 0.4657\n",
            "Epoch 42/300\n",
            " 995/1000 [============================>.] - ETA: 0s - loss: 1.8419 - accuracy: 0.4983\n",
            "Epoch 00042: val_loss improved from 2.05451 to 2.05071, saving model to model/-cnn-42-2.0507.hdf5\n",
            "1000/1000 [==============================] - 6s 6ms/step - loss: 1.8422 - accuracy: 0.4983 - val_loss: 2.0507 - val_accuracy: 0.4655\n",
            "Epoch 43/300\n",
            " 994/1000 [============================>.] - ETA: 0s - loss: 1.8135 - accuracy: 0.5060\n",
            "Epoch 00043: val_loss improved from 2.05071 to 2.04224, saving model to model/-cnn-43-2.0422.hdf5\n",
            "1000/1000 [==============================] - 6s 6ms/step - loss: 1.8136 - accuracy: 0.5060 - val_loss: 2.0422 - val_accuracy: 0.4683\n",
            "Epoch 44/300\n",
            " 999/1000 [============================>.] - ETA: 0s - loss: 1.7983 - accuracy: 0.5107\n",
            "Epoch 00044: val_loss improved from 2.04224 to 2.02899, saving model to model/-cnn-44-2.0290.hdf5\n",
            "1000/1000 [==============================] - 6s 6ms/step - loss: 1.7986 - accuracy: 0.5106 - val_loss: 2.0290 - val_accuracy: 0.4725\n",
            "Epoch 45/300\n",
            " 999/1000 [============================>.] - ETA: 0s - loss: 1.7830 - accuracy: 0.5147\n",
            "Epoch 00045: val_loss improved from 2.02899 to 2.02106, saving model to model/-cnn-45-2.0211.hdf5\n",
            "1000/1000 [==============================] - 6s 6ms/step - loss: 1.7828 - accuracy: 0.5147 - val_loss: 2.0211 - val_accuracy: 0.4740\n",
            "Epoch 46/300\n",
            " 995/1000 [============================>.] - ETA: 0s - loss: 1.7595 - accuracy: 0.5208\n",
            "Epoch 00046: val_loss did not improve from 2.02106\n",
            "1000/1000 [==============================] - 6s 6ms/step - loss: 1.7607 - accuracy: 0.5206 - val_loss: 2.0228 - val_accuracy: 0.4728\n",
            "Epoch 47/300\n",
            "1000/1000 [==============================] - ETA: 0s - loss: 1.7475 - accuracy: 0.5189\n",
            "Epoch 00047: val_loss improved from 2.02106 to 2.01232, saving model to model/-cnn-47-2.0123.hdf5\n",
            "1000/1000 [==============================] - 6s 6ms/step - loss: 1.7475 - accuracy: 0.5189 - val_loss: 2.0123 - val_accuracy: 0.4765\n",
            "Epoch 48/300\n",
            " 997/1000 [============================>.] - ETA: 0s - loss: 1.7316 - accuracy: 0.5262\n",
            "Epoch 00048: val_loss improved from 2.01232 to 2.01226, saving model to model/-cnn-48-2.0123.hdf5\n",
            "1000/1000 [==============================] - 6s 6ms/step - loss: 1.7308 - accuracy: 0.5264 - val_loss: 2.0123 - val_accuracy: 0.4757\n",
            "Epoch 49/300\n",
            "1000/1000 [==============================] - ETA: 0s - loss: 1.7053 - accuracy: 0.5313\n",
            "Epoch 00049: val_loss improved from 2.01226 to 2.00586, saving model to model/-cnn-49-2.0059.hdf5\n",
            "1000/1000 [==============================] - 6s 6ms/step - loss: 1.7053 - accuracy: 0.5313 - val_loss: 2.0059 - val_accuracy: 0.4772\n",
            "Epoch 50/300\n",
            " 993/1000 [============================>.] - ETA: 0s - loss: 1.6863 - accuracy: 0.5343\n",
            "Epoch 00050: val_loss improved from 2.00586 to 2.00351, saving model to model/-cnn-50-2.0035.hdf5\n",
            "1000/1000 [==============================] - 6s 6ms/step - loss: 1.6862 - accuracy: 0.5342 - val_loss: 2.0035 - val_accuracy: 0.4762\n",
            "Epoch 51/300\n",
            " 993/1000 [============================>.] - ETA: 0s - loss: 1.6742 - accuracy: 0.5368\n",
            "Epoch 00051: val_loss improved from 2.00351 to 1.98847, saving model to model/-cnn-51-1.9885.hdf5\n",
            "1000/1000 [==============================] - 6s 6ms/step - loss: 1.6745 - accuracy: 0.5367 - val_loss: 1.9885 - val_accuracy: 0.4830\n",
            "Epoch 52/300\n",
            " 995/1000 [============================>.] - ETA: 0s - loss: 1.6512 - accuracy: 0.5423\n",
            "Epoch 00052: val_loss did not improve from 1.98847\n",
            "1000/1000 [==============================] - 6s 6ms/step - loss: 1.6516 - accuracy: 0.5421 - val_loss: 1.9955 - val_accuracy: 0.4816\n",
            "Epoch 53/300\n",
            " 994/1000 [============================>.] - ETA: 0s - loss: 1.6379 - accuracy: 0.5452\n",
            "Epoch 00053: val_loss improved from 1.98847 to 1.98846, saving model to model/-cnn-53-1.9885.hdf5\n",
            "1000/1000 [==============================] - 6s 6ms/step - loss: 1.6387 - accuracy: 0.5450 - val_loss: 1.9885 - val_accuracy: 0.4851\n",
            "Epoch 54/300\n",
            " 994/1000 [============================>.] - ETA: 0s - loss: 1.6263 - accuracy: 0.5476\n",
            "Epoch 00054: val_loss improved from 1.98846 to 1.98600, saving model to model/-cnn-54-1.9860.hdf5\n",
            "1000/1000 [==============================] - 6s 6ms/step - loss: 1.6269 - accuracy: 0.5475 - val_loss: 1.9860 - val_accuracy: 0.4858\n",
            "Epoch 55/300\n",
            " 996/1000 [============================>.] - ETA: 0s - loss: 1.6058 - accuracy: 0.5500\n",
            "Epoch 00055: val_loss did not improve from 1.98600\n",
            "1000/1000 [==============================] - 6s 6ms/step - loss: 1.6056 - accuracy: 0.5501 - val_loss: 1.9872 - val_accuracy: 0.4842\n",
            "Epoch 56/300\n",
            " 999/1000 [============================>.] - ETA: 0s - loss: 1.5873 - accuracy: 0.5567\n",
            "Epoch 00056: val_loss improved from 1.98600 to 1.97003, saving model to model/-cnn-56-1.9700.hdf5\n",
            "1000/1000 [==============================] - 6s 6ms/step - loss: 1.5871 - accuracy: 0.5567 - val_loss: 1.9700 - val_accuracy: 0.4878\n",
            "Epoch 57/300\n",
            " 993/1000 [============================>.] - ETA: 0s - loss: 1.5765 - accuracy: 0.5582\n",
            "Epoch 00057: val_loss did not improve from 1.97003\n",
            "1000/1000 [==============================] - 6s 6ms/step - loss: 1.5764 - accuracy: 0.5581 - val_loss: 1.9818 - val_accuracy: 0.4892\n",
            "Epoch 58/300\n",
            " 999/1000 [============================>.] - ETA: 0s - loss: 1.5601 - accuracy: 0.5635\n",
            "Epoch 00058: val_loss did not improve from 1.97003\n",
            "1000/1000 [==============================] - 6s 6ms/step - loss: 1.5600 - accuracy: 0.5635 - val_loss: 1.9856 - val_accuracy: 0.4892\n",
            "Epoch 59/300\n",
            " 999/1000 [============================>.] - ETA: 0s - loss: 1.5435 - accuracy: 0.5656\n",
            "Epoch 00059: val_loss did not improve from 1.97003\n",
            "1000/1000 [==============================] - 6s 6ms/step - loss: 1.5435 - accuracy: 0.5656 - val_loss: 1.9828 - val_accuracy: 0.4896\n",
            "Epoch 60/300\n",
            " 997/1000 [============================>.] - ETA: 0s - loss: 1.5319 - accuracy: 0.5705\n",
            "Epoch 00060: val_loss improved from 1.97003 to 1.96365, saving model to model/-cnn-60-1.9636.hdf5\n",
            "1000/1000 [==============================] - 6s 6ms/step - loss: 1.5322 - accuracy: 0.5704 - val_loss: 1.9636 - val_accuracy: 0.4958\n",
            "Epoch 61/300\n",
            " 998/1000 [============================>.] - ETA: 0s - loss: 1.5146 - accuracy: 0.5719\n",
            "Epoch 00061: val_loss did not improve from 1.96365\n",
            "1000/1000 [==============================] - 6s 6ms/step - loss: 1.5143 - accuracy: 0.5719 - val_loss: 1.9721 - val_accuracy: 0.4901\n",
            "Epoch 62/300\n",
            " 994/1000 [============================>.] - ETA: 0s - loss: 1.4960 - accuracy: 0.5753\n",
            "Epoch 00062: val_loss improved from 1.96365 to 1.95074, saving model to model/-cnn-62-1.9507.hdf5\n",
            "1000/1000 [==============================] - 6s 6ms/step - loss: 1.4959 - accuracy: 0.5752 - val_loss: 1.9507 - val_accuracy: 0.4960\n",
            "Epoch 63/300\n",
            " 999/1000 [============================>.] - ETA: 0s - loss: 1.4951 - accuracy: 0.5776\n",
            "Epoch 00063: val_loss did not improve from 1.95074\n",
            "1000/1000 [==============================] - 6s 6ms/step - loss: 1.4949 - accuracy: 0.5776 - val_loss: 1.9671 - val_accuracy: 0.4933\n",
            "Epoch 64/300\n",
            " 996/1000 [============================>.] - ETA: 0s - loss: 1.4685 - accuracy: 0.5842\n",
            "Epoch 00064: val_loss did not improve from 1.95074\n",
            "1000/1000 [==============================] - 6s 6ms/step - loss: 1.4690 - accuracy: 0.5840 - val_loss: 1.9636 - val_accuracy: 0.4935\n",
            "Epoch 65/300\n",
            " 993/1000 [============================>.] - ETA: 0s - loss: 1.4592 - accuracy: 0.5852\n",
            "Epoch 00065: val_loss did not improve from 1.95074\n",
            "1000/1000 [==============================] - 6s 6ms/step - loss: 1.4588 - accuracy: 0.5853 - val_loss: 1.9556 - val_accuracy: 0.4968\n",
            "Epoch 66/300\n",
            " 995/1000 [============================>.] - ETA: 0s - loss: 1.4408 - accuracy: 0.5906\n",
            "Epoch 00066: val_loss did not improve from 1.95074\n",
            "1000/1000 [==============================] - 6s 6ms/step - loss: 1.4416 - accuracy: 0.5904 - val_loss: 1.9603 - val_accuracy: 0.4956\n",
            "Epoch 67/300\n",
            " 998/1000 [============================>.] - ETA: 0s - loss: 1.4342 - accuracy: 0.5905\n",
            "Epoch 00067: val_loss did not improve from 1.95074\n",
            "1000/1000 [==============================] - 6s 6ms/step - loss: 1.4343 - accuracy: 0.5905 - val_loss: 1.9576 - val_accuracy: 0.4973\n",
            "Epoch 68/300\n",
            " 992/1000 [============================>.] - ETA: 0s - loss: 1.4183 - accuracy: 0.5933\n",
            "Epoch 00068: val_loss did not improve from 1.95074\n",
            "1000/1000 [==============================] - 6s 6ms/step - loss: 1.4188 - accuracy: 0.5932 - val_loss: 1.9573 - val_accuracy: 0.4931\n",
            "Epoch 69/300\n",
            " 995/1000 [============================>.] - ETA: 0s - loss: 1.4049 - accuracy: 0.5979\n",
            "Epoch 00069: val_loss did not improve from 1.95074\n",
            "1000/1000 [==============================] - 6s 6ms/step - loss: 1.4050 - accuracy: 0.5978 - val_loss: 1.9745 - val_accuracy: 0.4977\n",
            "Epoch 70/300\n",
            " 999/1000 [============================>.] - ETA: 0s - loss: 1.3957 - accuracy: 0.5992\n",
            "Epoch 00070: val_loss did not improve from 1.95074\n",
            "1000/1000 [==============================] - 6s 6ms/step - loss: 1.3958 - accuracy: 0.5992 - val_loss: 1.9522 - val_accuracy: 0.5002\n",
            "Epoch 71/300\n",
            " 995/1000 [============================>.] - ETA: 0s - loss: 1.3870 - accuracy: 0.6019\n",
            "Epoch 00071: val_loss did not improve from 1.95074\n",
            "1000/1000 [==============================] - 6s 6ms/step - loss: 1.3875 - accuracy: 0.6016 - val_loss: 1.9517 - val_accuracy: 0.5000\n",
            "Epoch 72/300\n",
            " 994/1000 [============================>.] - ETA: 0s - loss: 1.3773 - accuracy: 0.6038\n",
            "Epoch 00072: val_loss did not improve from 1.95074\n",
            "1000/1000 [==============================] - 6s 6ms/step - loss: 1.3769 - accuracy: 0.6039 - val_loss: 1.9631 - val_accuracy: 0.4958\n"
          ],
          "name": "stdout"
        }
      ]
    },
    {
      "cell_type": "code",
      "metadata": {
        "id": "IOrCdzJ6sXDN",
        "colab_type": "code",
        "colab": {
          "base_uri": "https://localhost:8080/",
          "height": 71
        },
        "outputId": "874504c5-6856-42eb-aece-896e8289cc36"
      },
      "source": [
        "# 테스트 정확도 출력 \n",
        "print(\"\\n Test Accuracy: %.4f\" % (model.evaluate(X_test, Y_test)[1]))"
      ],
      "execution_count": 34,
      "outputs": [
        {
          "output_type": "stream",
          "text": [
            "313/313 [==============================] - 1s 3ms/step - loss: 1.9631 - accuracy: 0.4958\n",
            "\n",
            " Test Accuracy: 0.4958\n"
          ],
          "name": "stdout"
        }
      ]
    },
    {
      "cell_type": "code",
      "metadata": {
        "id": "-zUt3_BhsXFp",
        "colab_type": "code",
        "colab": {}
      },
      "source": [
        "# 테스트셋\n",
        "y_vloss = history.history['val_loss']\n",
        "y_vacc = history.history['val_accuracy']\n",
        "# 학습셋\n",
        "y_loss = history.history['loss']\n",
        "y_acc = history.history['accuracy']"
      ],
      "execution_count": 35,
      "outputs": []
    },
    {
      "cell_type": "code",
      "metadata": {
        "id": "DQ7ZP8zEsXIB",
        "colab_type": "code",
        "colab": {
          "base_uri": "https://localhost:8080/",
          "height": 499
        },
        "outputId": "6c91b902-f82c-427c-f8eb-873a5e3f9891"
      },
      "source": [
        "# 그래프로 표현\n",
        "import numpy as np\n",
        "x_len = np.arange(1, len(y_loss)+1)\n",
        "fig, ax0 = plt.subplots(figsize=(10,8))\n",
        "ax1 = ax0.twinx()\n",
        "ax0.plot(x_len, y_loss, c=\"blue\", label='Trainset_loss')\n",
        "ax0.plot(x_len, y_vloss, c=\"red\", label='Testset_loss')\n",
        "ax0.set_ylabel('loss')\n",
        "ax1.plot(x_len, y_acc, c=\"darkgreen\", label='Trainset_acc')\n",
        "ax1.plot(x_len, y_vacc, c=\"magenta\", label='Testset_acc')\n",
        "ax1.set_ylabel('accuracy')\n",
        "ax0.set_xlabel('epoch')\n",
        "ax0.legend(loc='upper center')\n",
        "ax1.legend(loc='lower center')\n",
        "plt.show()"
      ],
      "execution_count": 36,
      "outputs": [
        {
          "output_type": "display_data",
          "data": {
            "image/png": "[encoded data removed]",
            "text/plain": [
              "<Figure size 720x576 with 2 Axes>"
            ]
          },
          "metadata": {
            "tags": [],
            "needs_background": "light"
          }
        }
      ]
    },
    {
      "cell_type": "code",
      "metadata": {
        "id": "eQ-CGuH6sXKL",
        "colab_type": "code",
        "colab": {
          "base_uri": "https://localhost:8080/",
          "height": 71
        },
        "outputId": "b445a0d6-a453-405f-8cc1-ec46edab65d0"
      },
      "source": [
        "ls -l"
      ],
      "execution_count": 37,
      "outputs": [
        {
          "output_type": "stream",
          "text": [
            "total 8\n",
            "drwxr-xr-x 2 root root 4096 Jul  7 05:59 \u001b[0m\u001b[01;34mmodel\u001b[0m/\n",
            "drwxr-xr-x 1 root root 4096 Jun 26 16:26 \u001b[01;34msample_data\u001b[0m/\n"
          ],
          "name": "stdout"
        }
      ]
    },
    {
      "cell_type": "code",
      "metadata": {
        "id": "JwxXzfIQ8HkX",
        "colab_type": "code",
        "colab": {}
      },
      "source": [
        "import tensorflow as tf\n",
        "from tensorflow.keras.datasets import cifar10\n",
        "from tensorflow.keras.models import Sequential\n",
        "from tensorflow.keras.layers import Conv2D, MaxPooling2D, Flatten, Dense, Dropout\n",
        "from tensorflow.keras.layers import Activation, BatchNormalization\n",
        "from tensorflow.keras.regularizers import l2\n",
        "import numpy as np"
      ],
      "execution_count": 60,
      "outputs": []
    },
    {
      "cell_type": "code",
      "metadata": {
        "id": "SUXWsZXQ8SR3",
        "colab_type": "code",
        "colab": {
          "base_uri": "https://localhost:8080/",
          "height": 125
        },
        "outputId": "cb87235d-fba1-467c-a138-1fbc6587f68a"
      },
      "source": [
        "(X_train, y_train0), (X_test, y_test0) = cifar10.load_data()\n",
        "print(X_train.shape, X_train.dtype)\n",
        "print(y_train0.shape, y_train0.dtype)\n",
        "print(X_test.shape, X_test.dtype)\n",
        "print(y_test0.shape, y_test0.dtype)"
      ],
      "execution_count": 61,
      "outputs": [
        {
          "output_type": "stream",
          "text": [
            "Downloading data from https://www.cs.toronto.edu/~kriz/cifar-10-python.tar.gz\n",
            "170500096/170498071 [==============================] - 6s 0us/step\n",
            "(50000, 32, 32, 3) uint8\n",
            "(50000, 1) uint8\n",
            "(10000, 32, 32, 3) uint8\n",
            "(10000, 1) uint8\n"
          ],
          "name": "stdout"
        }
      ]
    },
    {
      "cell_type": "code",
      "metadata": {
        "id": "XMDRMxgi8SUe",
        "colab_type": "code",
        "colab": {
          "base_uri": "https://localhost:8080/",
          "height": 35
        },
        "outputId": "106ed39d-2473-41fa-afb9-700543cce2b2"
      },
      "source": [
        "X_train = X_train.astype('float32')/255.0\n",
        "X_test = X_test.astype('float32')/255.0\n",
        "\n",
        "print(X_train.shape, X_train.dtype)"
      ],
      "execution_count": 62,
      "outputs": [
        {
          "output_type": "stream",
          "text": [
            "(50000, 32, 32, 3) float32\n"
          ],
          "name": "stdout"
        }
      ]
    },
    {
      "cell_type": "code",
      "metadata": {
        "id": "Mb1Y2Stv8SXf",
        "colab_type": "code",
        "colab": {
          "base_uri": "https://localhost:8080/",
          "height": 89
        },
        "outputId": "9ac42359-8ee9-4bf9-a3ae-03ac038d6466"
      },
      "source": [
        "Y_train = tf.keras.utils.to_categorical(y_train0, 10)\n",
        "Y_test = tf.keras.utils.to_categorical(y_test0, 10)\n",
        "Y_train[:4]"
      ],
      "execution_count": 63,
      "outputs": [
        {
          "output_type": "execute_result",
          "data": {
            "text/plain": [
              "array([[0., 0., 0., 0., 0., 0., 1., 0., 0., 0.],\n",
              "       [0., 0., 0., 0., 0., 0., 0., 0., 0., 1.],\n",
              "       [0., 0., 0., 0., 0., 0., 0., 0., 0., 1.],\n",
              "       [0., 0., 0., 0., 1., 0., 0., 0., 0., 0.]], dtype=float32)"
            ]
          },
          "metadata": {
            "tags": []
          },
          "execution_count": 63
        }
      ]
    },
    {
      "cell_type": "code",
      "metadata": {
        "id": "DboYjEl88SZ6",
        "colab_type": "code",
        "colab": {}
      },
      "source": [
        "np.random.seed(0)\n",
        "weight_decay = 1e-4"
      ],
      "execution_count": 64,
      "outputs": []
    },
    {
      "cell_type": "code",
      "metadata": {
        "id": "8a3Ss27V8Scn",
        "colab_type": "code",
        "colab": {
          "base_uri": "https://localhost:8080/",
          "height": 1000
        },
        "outputId": "86de3796-db8f-438e-eb71-3e300873a556"
      },
      "source": [
        "model = Sequential()\n",
        "\n",
        "model.add(Conv2D(32, (3,3), padding='same', kernel_regularizer=l2(weight_decay), \n",
        "                 input_shape=X_train.shape[1:]))\n",
        "model.add(Activation('elu'))\n",
        "model.add(BatchNormalization())\n",
        "model.add(Conv2D(32, (3,3), padding='same', kernel_regularizer=l2(weight_decay)))\n",
        "model.add(Activation('elu'))\n",
        "model.add(BatchNormalization())\n",
        "model.add(MaxPooling2D(pool_size=(2,2)))\n",
        "model.add(Dropout(0.2))\n",
        " \n",
        "model.add(Conv2D(64, (3,3), padding='same', kernel_regularizer=l2(weight_decay)))\n",
        "model.add(Activation('elu'))\n",
        "model.add(BatchNormalization())\n",
        "model.add(Conv2D(64, (3,3), padding='same', kernel_regularizer=l2(weight_decay)))\n",
        "model.add(Activation('elu'))\n",
        "model.add(BatchNormalization())\n",
        "model.add(MaxPooling2D(pool_size=(2,2)))\n",
        "model.add(Dropout(0.3))\n",
        " \n",
        "model.add(Conv2D(128, (3,3), padding='same', kernel_regularizer=l2(weight_decay)))\n",
        "model.add(Activation('elu'))\n",
        "model.add(BatchNormalization())\n",
        "model.add(Conv2D(128, (3,3), padding='same', kernel_regularizer=l2(weight_decay)))\n",
        "model.add(Activation('elu'))\n",
        "model.add(BatchNormalization())\n",
        "model.add(MaxPooling2D(pool_size=(2,2)))\n",
        "model.add(Dropout(0.4))\n",
        " \n",
        "model.add(Flatten())\n",
        "model.add(Dense(10, activation='softmax'))\n",
        "\n",
        "model.summary()"
      ],
      "execution_count": 65,
      "outputs": [
        {
          "output_type": "stream",
          "text": [
            "Model: \"sequential_1\"\n",
            "_________________________________________________________________\n",
            "Layer (type)                 Output Shape              Param #   \n",
            "=================================================================\n",
            "conv2d_25 (Conv2D)           (None, 32, 32, 32)        896       \n",
            "_________________________________________________________________\n",
            "activation_7 (Activation)    (None, 32, 32, 32)        0         \n",
            "_________________________________________________________________\n",
            "batch_normalization (BatchNo (None, 32, 32, 32)        128       \n",
            "_________________________________________________________________\n",
            "conv2d_26 (Conv2D)           (None, 32, 32, 32)        9248      \n",
            "_________________________________________________________________\n",
            "activation_8 (Activation)    (None, 32, 32, 32)        0         \n",
            "_________________________________________________________________\n",
            "batch_normalization_1 (Batch (None, 32, 32, 32)        128       \n",
            "_________________________________________________________________\n",
            "max_pooling2d_3 (MaxPooling2 (None, 16, 16, 32)        0         \n",
            "_________________________________________________________________\n",
            "dropout_3 (Dropout)          (None, 16, 16, 32)        0         \n",
            "_________________________________________________________________\n",
            "conv2d_27 (Conv2D)           (None, 16, 16, 64)        18496     \n",
            "_________________________________________________________________\n",
            "activation_9 (Activation)    (None, 16, 16, 64)        0         \n",
            "_________________________________________________________________\n",
            "batch_normalization_2 (Batch (None, 16, 16, 64)        256       \n",
            "_________________________________________________________________\n",
            "conv2d_28 (Conv2D)           (None, 16, 16, 64)        36928     \n",
            "_________________________________________________________________\n",
            "activation_10 (Activation)   (None, 16, 16, 64)        0         \n",
            "_________________________________________________________________\n",
            "batch_normalization_3 (Batch (None, 16, 16, 64)        256       \n",
            "_________________________________________________________________\n",
            "max_pooling2d_4 (MaxPooling2 (None, 8, 8, 64)          0         \n",
            "_________________________________________________________________\n",
            "dropout_4 (Dropout)          (None, 8, 8, 64)          0         \n",
            "_________________________________________________________________\n",
            "conv2d_29 (Conv2D)           (None, 8, 8, 128)         73856     \n",
            "_________________________________________________________________\n",
            "activation_11 (Activation)   (None, 8, 8, 128)         0         \n",
            "_________________________________________________________________\n",
            "batch_normalization_4 (Batch (None, 8, 8, 128)         512       \n",
            "_________________________________________________________________\n",
            "conv2d_30 (Conv2D)           (None, 8, 8, 128)         147584    \n",
            "_________________________________________________________________\n",
            "activation_12 (Activation)   (None, 8, 8, 128)         0         \n",
            "_________________________________________________________________\n",
            "batch_normalization_5 (Batch (None, 8, 8, 128)         512       \n",
            "_________________________________________________________________\n",
            "max_pooling2d_5 (MaxPooling2 (None, 4, 4, 128)         0         \n",
            "_________________________________________________________________\n",
            "dropout_5 (Dropout)          (None, 4, 4, 128)         0         \n",
            "_________________________________________________________________\n",
            "flatten_1 (Flatten)          (None, 2048)              0         \n",
            "_________________________________________________________________\n",
            "dense_2 (Dense)              (None, 10)                20490     \n",
            "=================================================================\n",
            "Total params: 309,290\n",
            "Trainable params: 308,394\n",
            "Non-trainable params: 896\n",
            "_________________________________________________________________\n"
          ],
          "name": "stdout"
        }
      ]
    },
    {
      "cell_type": "code",
      "metadata": {
        "id": "WiMJoLq48Se4",
        "colab_type": "code",
        "colab": {}
      },
      "source": [
        "from tensorflow.keras.optimizers import RMSprop\n",
        "\n",
        "model.compile(loss='categorical_crossentropy', \n",
        "              optimizer=RMSprop(lr=0.001, decay=weight_decay), \n",
        "              metrics=['accuracy'])"
      ],
      "execution_count": 66,
      "outputs": []
    },
    {
      "cell_type": "code",
      "metadata": {
        "id": "bS0c3e7_8Shi",
        "colab_type": "code",
        "colab": {}
      },
      "source": [
        "def lr_schedule(epoch):\n",
        "    lrate = 0.001\n",
        "    if epoch > 30:\n",
        "        lrate = 0.0005\n",
        "    if epoch > 40:\n",
        "        lrate = 0.0003\n",
        "    return lrate"
      ],
      "execution_count": 67,
      "outputs": []
    },
    {
      "cell_type": "code",
      "metadata": {
        "id": "1CngXrap8SkA",
        "colab_type": "code",
        "colab": {}
      },
      "source": [
        "\n",
        "#data augmentation\n",
        "from tensorflow.keras.preprocessing.image import ImageDataGenerator\n",
        "\n",
        "datagen = ImageDataGenerator(\n",
        "    rotation_range=15,\n",
        "    width_shift_range=0.1,\n",
        "    height_shift_range=0.1,\n",
        "    horizontal_flip=True,\n",
        ")\n",
        "datagen.fit(X_train)"
      ],
      "execution_count": 68,
      "outputs": []
    },
    {
      "cell_type": "code",
      "metadata": {
        "id": "-opCVQfj8Smg",
        "colab_type": "code",
        "colab": {
          "base_uri": "https://localhost:8080/",
          "height": 1000
        },
        "outputId": "325fa264-7101-466f-9cc1-19995e63d277"
      },
      "source": [
        "from tensorflow.keras.callbacks import LearningRateScheduler\n",
        "\n",
        "history = model.fit_generator(datagen.flow(X_train, Y_train, batch_size=64),\n",
        "                    steps_per_epoch=X_train.shape[0] // 64, epochs=50,\n",
        "                    verbose=2, validation_data=(X_test, Y_test),\n",
        "                    callbacks=[LearningRateScheduler(lr_schedule)])"
      ],
      "execution_count": 69,
      "outputs": [
        {
          "output_type": "stream",
          "text": [
            "WARNING:tensorflow:From <ipython-input-69-a4771c53dd20>:6: Model.fit_generator (from tensorflow.python.keras.engine.training) is deprecated and will be removed in a future version.\n",
            "Instructions for updating:\n",
            "Please use Model.fit, which supports generators.\n",
            "Epoch 1/50\n",
            "781/781 - 25s - loss: 1.9212 - accuracy: 0.4195 - val_loss: 1.6233 - val_accuracy: 0.5016 - lr: 0.0010\n",
            "Epoch 2/50\n",
            "781/781 - 25s - loss: 1.2710 - accuracy: 0.5911 - val_loss: 0.9878 - val_accuracy: 0.6868 - lr: 0.0010\n",
            "Epoch 3/50\n",
            "781/781 - 25s - loss: 1.0772 - accuracy: 0.6544 - val_loss: 0.8557 - val_accuracy: 0.7275 - lr: 0.0010\n",
            "Epoch 4/50\n",
            "781/781 - 25s - loss: 0.9671 - accuracy: 0.6929 - val_loss: 0.8734 - val_accuracy: 0.7320 - lr: 0.0010\n",
            "Epoch 5/50\n",
            "781/781 - 24s - loss: 0.8964 - accuracy: 0.7180 - val_loss: 0.8472 - val_accuracy: 0.7465 - lr: 0.0010\n",
            "Epoch 6/50\n",
            "781/781 - 25s - loss: 0.8472 - accuracy: 0.7381 - val_loss: 0.7908 - val_accuracy: 0.7592 - lr: 0.0010\n",
            "Epoch 7/50\n",
            "781/781 - 25s - loss: 0.8100 - accuracy: 0.7492 - val_loss: 0.7911 - val_accuracy: 0.7678 - lr: 0.0010\n",
            "Epoch 8/50\n",
            "781/781 - 24s - loss: 0.7782 - accuracy: 0.7617 - val_loss: 0.7058 - val_accuracy: 0.7936 - lr: 0.0010\n",
            "Epoch 9/50\n",
            "781/781 - 25s - loss: 0.7589 - accuracy: 0.7689 - val_loss: 0.7024 - val_accuracy: 0.7906 - lr: 0.0010\n",
            "Epoch 10/50\n",
            "781/781 - 24s - loss: 0.7327 - accuracy: 0.7776 - val_loss: 0.7201 - val_accuracy: 0.7895 - lr: 0.0010\n",
            "Epoch 11/50\n",
            "781/781 - 24s - loss: 0.7146 - accuracy: 0.7864 - val_loss: 0.7281 - val_accuracy: 0.7883 - lr: 0.0010\n",
            "Epoch 12/50\n",
            "781/781 - 24s - loss: 0.6963 - accuracy: 0.7903 - val_loss: 0.6254 - val_accuracy: 0.8188 - lr: 0.0010\n",
            "Epoch 13/50\n",
            "781/781 - 24s - loss: 0.6807 - accuracy: 0.7973 - val_loss: 0.7318 - val_accuracy: 0.7924 - lr: 0.0010\n",
            "Epoch 14/50\n",
            "781/781 - 24s - loss: 0.6683 - accuracy: 0.8000 - val_loss: 0.6657 - val_accuracy: 0.8136 - lr: 0.0010\n",
            "Epoch 15/50\n",
            "781/781 - 24s - loss: 0.6512 - accuracy: 0.8081 - val_loss: 0.6216 - val_accuracy: 0.8224 - lr: 0.0010\n",
            "Epoch 16/50\n",
            "781/781 - 24s - loss: 0.6415 - accuracy: 0.8119 - val_loss: 0.6205 - val_accuracy: 0.8261 - lr: 0.0010\n",
            "Epoch 17/50\n",
            "781/781 - 24s - loss: 0.6286 - accuracy: 0.8170 - val_loss: 0.6611 - val_accuracy: 0.8155 - lr: 0.0010\n",
            "Epoch 18/50\n",
            "781/781 - 24s - loss: 0.6198 - accuracy: 0.8180 - val_loss: 0.6134 - val_accuracy: 0.8275 - lr: 0.0010\n",
            "Epoch 19/50\n",
            "781/781 - 24s - loss: 0.6155 - accuracy: 0.8189 - val_loss: 0.7750 - val_accuracy: 0.7868 - lr: 0.0010\n",
            "Epoch 20/50\n",
            "781/781 - 24s - loss: 0.6000 - accuracy: 0.8261 - val_loss: 0.6240 - val_accuracy: 0.8209 - lr: 0.0010\n",
            "Epoch 21/50\n",
            "781/781 - 24s - loss: 0.5940 - accuracy: 0.8268 - val_loss: 0.6483 - val_accuracy: 0.8208 - lr: 0.0010\n",
            "Epoch 22/50\n",
            "781/781 - 24s - loss: 0.5850 - accuracy: 0.8286 - val_loss: 0.5387 - val_accuracy: 0.8511 - lr: 0.0010\n",
            "Epoch 23/50\n",
            "781/781 - 24s - loss: 0.5774 - accuracy: 0.8322 - val_loss: 0.5634 - val_accuracy: 0.8467 - lr: 0.0010\n",
            "Epoch 24/50\n",
            "781/781 - 24s - loss: 0.5689 - accuracy: 0.8338 - val_loss: 0.5372 - val_accuracy: 0.8522 - lr: 0.0010\n",
            "Epoch 25/50\n",
            "781/781 - 30s - loss: 0.5633 - accuracy: 0.8365 - val_loss: 0.5524 - val_accuracy: 0.8510 - lr: 0.0010\n",
            "Epoch 26/50\n",
            "781/781 - 24s - loss: 0.5551 - accuracy: 0.8422 - val_loss: 0.5470 - val_accuracy: 0.8535 - lr: 0.0010\n",
            "Epoch 27/50\n",
            "781/781 - 24s - loss: 0.5590 - accuracy: 0.8374 - val_loss: 0.5460 - val_accuracy: 0.8475 - lr: 0.0010\n",
            "Epoch 28/50\n",
            "781/781 - 24s - loss: 0.5508 - accuracy: 0.8415 - val_loss: 0.5373 - val_accuracy: 0.8536 - lr: 0.0010\n",
            "Epoch 29/50\n",
            "781/781 - 24s - loss: 0.5480 - accuracy: 0.8434 - val_loss: 0.5248 - val_accuracy: 0.8549 - lr: 0.0010\n",
            "Epoch 30/50\n",
            "781/781 - 24s - loss: 0.5372 - accuracy: 0.8453 - val_loss: 0.5284 - val_accuracy: 0.8550 - lr: 0.0010\n",
            "Epoch 31/50\n",
            "781/781 - 24s - loss: 0.5383 - accuracy: 0.8440 - val_loss: 0.5499 - val_accuracy: 0.8495 - lr: 0.0010\n",
            "Epoch 32/50\n",
            "781/781 - 23s - loss: 0.5152 - accuracy: 0.8530 - val_loss: 0.5264 - val_accuracy: 0.8571 - lr: 5.0000e-04\n",
            "Epoch 33/50\n",
            "781/781 - 24s - loss: 0.4990 - accuracy: 0.8569 - val_loss: 0.4910 - val_accuracy: 0.8683 - lr: 5.0000e-04\n",
            "Epoch 34/50\n",
            "781/781 - 24s - loss: 0.4992 - accuracy: 0.8575 - val_loss: 0.5125 - val_accuracy: 0.8609 - lr: 5.0000e-04\n",
            "Epoch 35/50\n",
            "781/781 - 24s - loss: 0.5004 - accuracy: 0.8570 - val_loss: 0.5369 - val_accuracy: 0.8541 - lr: 5.0000e-04\n",
            "Epoch 36/50\n",
            "781/781 - 23s - loss: 0.4898 - accuracy: 0.8598 - val_loss: 0.4968 - val_accuracy: 0.8626 - lr: 5.0000e-04\n",
            "Epoch 37/50\n",
            "781/781 - 24s - loss: 0.4877 - accuracy: 0.8621 - val_loss: 0.4866 - val_accuracy: 0.8696 - lr: 5.0000e-04\n",
            "Epoch 38/50\n",
            "781/781 - 24s - loss: 0.4845 - accuracy: 0.8636 - val_loss: 0.5256 - val_accuracy: 0.8591 - lr: 5.0000e-04\n",
            "Epoch 39/50\n",
            "781/781 - 24s - loss: 0.4817 - accuracy: 0.8637 - val_loss: 0.5363 - val_accuracy: 0.8565 - lr: 5.0000e-04\n",
            "Epoch 40/50\n",
            "781/781 - 24s - loss: 0.4801 - accuracy: 0.8624 - val_loss: 0.4956 - val_accuracy: 0.8665 - lr: 5.0000e-04\n",
            "Epoch 41/50\n",
            "781/781 - 24s - loss: 0.4721 - accuracy: 0.8664 - val_loss: 0.4882 - val_accuracy: 0.8679 - lr: 5.0000e-04\n",
            "Epoch 42/50\n",
            "781/781 - 24s - loss: 0.4714 - accuracy: 0.8650 - val_loss: 0.4860 - val_accuracy: 0.8684 - lr: 3.0000e-04\n",
            "Epoch 43/50\n",
            "781/781 - 24s - loss: 0.4600 - accuracy: 0.8693 - val_loss: 0.4984 - val_accuracy: 0.8675 - lr: 3.0000e-04\n",
            "Epoch 44/50\n",
            "781/781 - 24s - loss: 0.4657 - accuracy: 0.8669 - val_loss: 0.4947 - val_accuracy: 0.8669 - lr: 3.0000e-04\n",
            "Epoch 45/50\n",
            "781/781 - 24s - loss: 0.4570 - accuracy: 0.8717 - val_loss: 0.4748 - val_accuracy: 0.8687 - lr: 3.0000e-04\n",
            "Epoch 46/50\n",
            "781/781 - 24s - loss: 0.4633 - accuracy: 0.8675 - val_loss: 0.4681 - val_accuracy: 0.8722 - lr: 3.0000e-04\n",
            "Epoch 47/50\n",
            "781/781 - 24s - loss: 0.4552 - accuracy: 0.8721 - val_loss: 0.4936 - val_accuracy: 0.8680 - lr: 3.0000e-04\n",
            "Epoch 48/50\n",
            "781/781 - 24s - loss: 0.4546 - accuracy: 0.8708 - val_loss: 0.4778 - val_accuracy: 0.8705 - lr: 3.0000e-04\n",
            "Epoch 49/50\n",
            "781/781 - 24s - loss: 0.4569 - accuracy: 0.8683 - val_loss: 0.4981 - val_accuracy: 0.8664 - lr: 3.0000e-04\n",
            "Epoch 50/50\n",
            "781/781 - 24s - loss: 0.4517 - accuracy: 0.8722 - val_loss: 0.4695 - val_accuracy: 0.8736 - lr: 3.0000e-04\n"
          ],
          "name": "stdout"
        }
      ]
    },
    {
      "cell_type": "code",
      "metadata": {
        "id": "O_C2r9KT8vKe",
        "colab_type": "code",
        "colab": {
          "base_uri": "https://localhost:8080/",
          "height": 71
        },
        "outputId": "25dd5d3a-7808-440a-85ab-894ef8dd2c07"
      },
      "source": [
        "scores = model.evaluate(X_test, Y_test, batch_size=128, verbose=2)\n",
        "print('\\nAccuracy: %.4f' % scores[1])"
      ],
      "execution_count": 70,
      "outputs": [
        {
          "output_type": "stream",
          "text": [
            "79/79 - 1s - loss: 0.4695 - accuracy: 0.8736\n",
            "\n",
            "Accuracy: 0.8736\n"
          ],
          "name": "stdout"
        }
      ]
    },
    {
      "cell_type": "code",
      "metadata": {
        "id": "rrDOQTD48yqk",
        "colab_type": "code",
        "colab": {}
      },
      "source": [
        "model.save_weights('model/cifar10-full-v3.h5')"
      ],
      "execution_count": 71,
      "outputs": []
    },
    {
      "cell_type": "code",
      "metadata": {
        "id": "rx67pJVz83u0",
        "colab_type": "code",
        "colab": {}
      },
      "source": [
        ""
      ],
      "execution_count": null,
      "outputs": []
    }
  ]
}