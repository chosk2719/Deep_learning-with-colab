{
  "nbformat": 4,
  "nbformat_minor": 0,
  "metadata": {
    "colab": {
      "name": "01. Cifar-100_colab.ipynb",
      "provenance": [],
      "collapsed_sections": [],
      "authorship_tag": "ABX9TyNE4S/ezz7uFl45Ie17/jhe",
      "include_colab_link": true
    },
    "kernelspec": {
      "name": "python3",
      "display_name": "Python 3"
    },
    "accelerator": "GPU"
  },
  "cells": [
    {
      "cell_type": "markdown",
      "metadata": {
        "id": "view-in-github",
        "colab_type": "text"
      },
      "source": [
        "<a href=\"https://colab.research.google.com/github/chosk2719/Deep_learning-with-colab/blob/master/01_Cifar_100_colab.ipynb\" target=\"_parent\"><img src=\"https://colab.research.google.com/assets/colab-badge.svg\" alt=\"Open In Colab\"/></a>"
      ]
    },
    {
      "cell_type": "markdown",
      "metadata": {
        "id": "MxQU8DILpp9Z",
        "colab_type": "text"
      },
      "source": [
        "# Cifar-100"
      ]
    },
    {
      "cell_type": "code",
      "metadata": {
        "id": "E9Qex4dpplvI",
        "colab_type": "code",
        "colab": {
          "base_uri": "https://localhost:8080/",
          "height": 35
        },
        "outputId": "fba88f40-57d7-4e85-d5a4-6227cf80567e"
      },
      "source": [
        "%tensorflow_version 2.x\n",
        "import tensorflow as tf\n",
        "device_name = tf.test.gpu_device_name()\n",
        "if device_name != '/device:GPU:0':\n",
        "    raise SystemError('GPU device not found')\n",
        "print('Found GPU at: {}'.format(device_name))"
      ],
      "execution_count": null,
      "outputs": [
        {
          "output_type": "stream",
          "text": [
            "Found GPU at: /device:GPU:0\n"
          ],
          "name": "stdout"
        }
      ]
    },
    {
      "cell_type": "code",
      "metadata": {
        "id": "d75Kdzffp2wx",
        "colab_type": "code",
        "colab": {
          "base_uri": "https://localhost:8080/",
          "height": 145
        },
        "outputId": "9d3610d8-91ce-45a4-8cee-e2b17b89e465"
      },
      "source": [
        "%tensorflow_version 2.x\n",
        "import tensorflow as tf\n",
        "import timeit\n",
        "\n",
        "device_name = tf.test.gpu_device_name()\n",
        "if device_name != '/device:GPU:0':\n",
        "  print(\n",
        "      '\\n\\nThis error most likely means that this notebook is not '\n",
        "      'configured to use a GPU.  Change this in Notebook Settings via the '\n",
        "      'command palette (cmd/ctrl-shift-P) or the Edit menu.\\n\\n')\n",
        "  raise SystemError('GPU device not found')\n",
        "\n",
        "def cpu():\n",
        "  with tf.device('/cpu:0'):\n",
        "    random_image_cpu = tf.random.normal((100, 100, 100, 3))\n",
        "    net_cpu = tf.keras.layers.Conv2D(32, 7)(random_image_cpu)\n",
        "    return tf.math.reduce_sum(net_cpu)\n",
        "\n",
        "def gpu():\n",
        "  with tf.device('/device:GPU:0'):\n",
        "    random_image_gpu = tf.random.normal((100, 100, 100, 3))\n",
        "    net_gpu = tf.keras.layers.Conv2D(32, 7)(random_image_gpu)\n",
        "    return tf.math.reduce_sum(net_gpu)\n",
        "  \n",
        "# We run each op once to warm up; see: https://stackoverflow.com/a/45067900\n",
        "cpu()\n",
        "gpu()\n",
        "\n",
        "# Run the op several times.\n",
        "print('Time (s) to convolve 32x7x7x3 filter over random 100x100x100x3 images '\n",
        "      '(batch x height x width x channel). Sum of ten runs.')\n",
        "print('CPU (s):')\n",
        "cpu_time = timeit.timeit('cpu()', number=10, setup=\"from __main__ import cpu\")\n",
        "print(cpu_time)\n",
        "print('GPU (s):')\n",
        "gpu_time = timeit.timeit('gpu()', number=10, setup=\"from __main__ import gpu\")\n",
        "print(gpu_time)\n",
        "print('GPU speedup over CPU: {}x'.format(int(cpu_time/gpu_time)))"
      ],
      "execution_count": null,
      "outputs": [
        {
          "output_type": "stream",
          "text": [
            "Time (s) to convolve 32x7x7x3 filter over random 100x100x100x3 images (batch x height x width x channel). Sum of ten runs.\n",
            "CPU (s):\n",
            "3.6799086999999417\n",
            "GPU (s):\n",
            "0.19303223099996103\n",
            "GPU speedup over CPU: 19x\n"
          ],
          "name": "stdout"
        }
      ]
    },
    {
      "cell_type": "code",
      "metadata": {
        "id": "QlITZXSPp21Q",
        "colab_type": "code",
        "colab": {
          "base_uri": "https://localhost:8080/",
          "height": 53
        },
        "outputId": "a179560e-a29c-465d-88de-9b0df038434a"
      },
      "source": [
        "from tensorflow import  keras\n",
        "from tensorflow.keras.datasets import cifar100\n",
        "(X_train, y_train), (X_test, y_test) = cifar100.load_data(label_mode='fine')"
      ],
      "execution_count": null,
      "outputs": [
        {
          "output_type": "stream",
          "text": [
            "Downloading data from https://www.cs.toronto.edu/~kriz/cifar-100-python.tar.gz\n",
            "169009152/169001437 [==============================] - 2s 0us/step\n"
          ],
          "name": "stdout"
        }
      ]
    },
    {
      "cell_type": "code",
      "metadata": {
        "id": "eK-jCVRTsWrz",
        "colab_type": "code",
        "colab": {
          "base_uri": "https://localhost:8080/",
          "height": 35
        },
        "outputId": "64256f44-dca4-4594-dfd2-9cf379c47abf"
      },
      "source": [
        "X_train.shape, X_test.shape"
      ],
      "execution_count": null,
      "outputs": [
        {
          "output_type": "execute_result",
          "data": {
            "text/plain": [
              "((50000, 32, 32, 3), (10000, 32, 32, 3))"
            ]
          },
          "metadata": {
            "tags": []
          },
          "execution_count": 4
        }
      ]
    },
    {
      "cell_type": "code",
      "metadata": {
        "id": "LtY1lZp7sWt6",
        "colab_type": "code",
        "colab": {
          "base_uri": "https://localhost:8080/",
          "height": 197
        },
        "outputId": "59d8e375-a7b3-46d5-b0c4-eb2574807a6c"
      },
      "source": [
        "y_train[:10]"
      ],
      "execution_count": null,
      "outputs": [
        {
          "output_type": "execute_result",
          "data": {
            "text/plain": [
              "array([[19],\n",
              "       [29],\n",
              "       [ 0],\n",
              "       [11],\n",
              "       [ 1],\n",
              "       [86],\n",
              "       [90],\n",
              "       [28],\n",
              "       [23],\n",
              "       [31]])"
            ]
          },
          "metadata": {
            "tags": []
          },
          "execution_count": 5
        }
      ]
    },
    {
      "cell_type": "code",
      "metadata": {
        "id": "TaMPI8dosWwQ",
        "colab_type": "code",
        "colab": {
          "base_uri": "https://localhost:8080/",
          "height": 124
        },
        "outputId": "0824a612-35e7-430d-a7c0-38b5d1088540"
      },
      "source": [
        "import matplotlib as mpl\n",
        "import matplotlib.pyplot as plt\n",
        "%matplotlib inline\n",
        "\n",
        "plt.subplot(141)\n",
        "plt.imshow(X_train[0], interpolation=\"bicubic\")\n",
        "plt.grid(False)\n",
        "plt.subplot(142)\n",
        "plt.imshow(X_train[4], interpolation=\"bicubic\")\n",
        "plt.grid(False)\n",
        "plt.subplot(143)\n",
        "plt.imshow(X_train[8], interpolation=\"bicubic\")\n",
        "plt.grid(False)\n",
        "plt.subplot(144)\n",
        "plt.imshow(X_train[12], interpolation=\"bicubic\")\n",
        "plt.grid(False)\n",
        "plt.show()"
      ],
      "execution_count": null,
      "outputs": [
        {
          "output_type": "display_data",
          "data": {
            "image/png": "[encoded data removed]",
            "text/plain": [
              "<Figure size 432x288 with 4 Axes>"
            ]
          },
          "metadata": {
            "tags": [],
            "needs_background": "light"
          }
        }
      ]
    },
    {
      "cell_type": "code",
      "metadata": {
        "id": "qCccnpA3sWyq",
        "colab_type": "code",
        "colab": {
          "base_uri": "https://localhost:8080/",
          "height": 35
        },
        "outputId": "8ca32b66-4919-4f8d-cdff-10bfa4493601"
      },
      "source": [
        "y_train[0], y_train[4], y_train[8], y_train[12]"
      ],
      "execution_count": null,
      "outputs": [
        {
          "output_type": "execute_result",
          "data": {
            "text/plain": [
              "(array([19]), array([1]), array([23]), array([82]))"
            ]
          },
          "metadata": {
            "tags": []
          },
          "execution_count": 7
        }
      ]
    },
    {
      "cell_type": "code",
      "metadata": {
        "id": "13QWfQuzsW1C",
        "colab_type": "code",
        "colab": {
          "base_uri": "https://localhost:8080/",
          "height": 35
        },
        "outputId": "875325e8-f374-4a99-fa30-bed283967942"
      },
      "source": [
        "X_train = X_train.astype('float32')/255.0\n",
        "X_test = X_test.astype('float32')/255.0\n",
        "\n",
        "print(X_train.shape, X_train.dtype)"
      ],
      "execution_count": null,
      "outputs": [
        {
          "output_type": "stream",
          "text": [
            "(50000, 32, 32, 3) float32\n"
          ],
          "name": "stdout"
        }
      ]
    },
    {
      "cell_type": "code",
      "metadata": {
        "id": "PL7i21UksW3a",
        "colab_type": "code",
        "colab": {
          "base_uri": "https://localhost:8080/",
          "height": 269
        },
        "outputId": "a3ce9ae1-9288-486f-aa6c-8c407f3d2f6b"
      },
      "source": [
        "Y_train = tf.keras.utils.to_categorical(y_train, 100)\n",
        "Y_test = tf.keras.utils.to_categorical(y_test, 100)\n",
        "Y_train[:2]"
      ],
      "execution_count": null,
      "outputs": [
        {
          "output_type": "execute_result",
          "data": {
            "text/plain": [
              "array([[0., 0., 0., 0., 0., 0., 0., 0., 0., 0., 0., 0., 0., 0., 0., 0.,\n",
              "        0., 0., 0., 1., 0., 0., 0., 0., 0., 0., 0., 0., 0., 0., 0., 0.,\n",
              "        0., 0., 0., 0., 0., 0., 0., 0., 0., 0., 0., 0., 0., 0., 0., 0.,\n",
              "        0., 0., 0., 0., 0., 0., 0., 0., 0., 0., 0., 0., 0., 0., 0., 0.,\n",
              "        0., 0., 0., 0., 0., 0., 0., 0., 0., 0., 0., 0., 0., 0., 0., 0.,\n",
              "        0., 0., 0., 0., 0., 0., 0., 0., 0., 0., 0., 0., 0., 0., 0., 0.,\n",
              "        0., 0., 0., 0.],\n",
              "       [0., 0., 0., 0., 0., 0., 0., 0., 0., 0., 0., 0., 0., 0., 0., 0.,\n",
              "        0., 0., 0., 0., 0., 0., 0., 0., 0., 0., 0., 0., 0., 1., 0., 0.,\n",
              "        0., 0., 0., 0., 0., 0., 0., 0., 0., 0., 0., 0., 0., 0., 0., 0.,\n",
              "        0., 0., 0., 0., 0., 0., 0., 0., 0., 0., 0., 0., 0., 0., 0., 0.,\n",
              "        0., 0., 0., 0., 0., 0., 0., 0., 0., 0., 0., 0., 0., 0., 0., 0.,\n",
              "        0., 0., 0., 0., 0., 0., 0., 0., 0., 0., 0., 0., 0., 0., 0., 0.,\n",
              "        0., 0., 0., 0.]], dtype=float32)"
            ]
          },
          "metadata": {
            "tags": []
          },
          "execution_count": 9
        }
      ]
    },
    {
      "cell_type": "code",
      "metadata": {
        "id": "pX2PIBzKsW5r",
        "colab_type": "code",
        "colab": {}
      },
      "source": [
        "from tensorflow.keras.models import Sequential\n",
        "from tensorflow.keras.layers import Conv2D, MaxPooling2D, Flatten, Dense, Dropout\n",
        "from tensorflow.keras.layers import Activation"
      ],
      "execution_count": null,
      "outputs": []
    },
    {
      "cell_type": "code",
      "metadata": {
        "id": "n4bp-L1Psnv4",
        "colab_type": "code",
        "colab": {}
      },
      "source": [
        ""
      ],
      "execution_count": null,
      "outputs": []
    },
    {
      "cell_type": "code",
      "metadata": {
        "id": "Ex0vhdlGsW8A",
        "colab_type": "code",
        "colab": {
          "base_uri": "https://localhost:8080/",
          "height": 845
        },
        "outputId": "6afe92a0-40f7-4b2f-de51-dd3a8c898078"
      },
      "source": [
        "model = Sequential()\n",
        "\n",
        "# Input Layer\n",
        "model.add(Conv2D(32, (3,3), padding='same', input_shape = X_train.shape[1:]))\n",
        "model.add(Activation('relu'))\n",
        "# MAXPOOL Layer 1\n",
        "model.add(MaxPooling2D(pool_size=(2, 2)))\n",
        "model.add(Activation('relu'))\n",
        "# CONV2D Layer 2\n",
        "model.add(Conv2D(64, (3,3), padding='same'))\n",
        "model.add(Activation('relu'))\n",
        "# MAXPOOL Layer 2\n",
        "model.add(MaxPooling2D(pool_size=(2, 2)))\n",
        "model.add(Activation('relu'))\n",
        "# Add a dropout of 10%\n",
        "model.add(Dropout(0.1))\n",
        "# CONV2D Layer 3\n",
        "model.add(Conv2D(128, (3,3), padding='same'))\n",
        "model.add(Activation('relu'))\n",
        "# MAXPOOL Layer 3\n",
        "model.add(MaxPooling2D(pool_size=(2,2)))\n",
        "# Add dropout of 25%\n",
        "model.add(Dropout(0.25))\n",
        "# flatten \n",
        "model.add(Flatten())\n",
        "# Fully Connected Layer 1\n",
        "model.add(Dense(512))\n",
        "model.add(Activation('relu'))\n",
        "# Adding a dropout of 50%\n",
        "model.add(Dropout(0.5))\n",
        "# Output Layer (Fully Connected Layer 2) \n",
        "model.add(Dense(100))\n",
        "model.add(Activation('softmax'))\n",
        "          \n",
        "model.summary()"
      ],
      "execution_count": null,
      "outputs": [
        {
          "output_type": "stream",
          "text": [
            "Model: \"sequential\"\n",
            "_________________________________________________________________\n",
            "Layer (type)                 Output Shape              Param #   \n",
            "=================================================================\n",
            "conv2d_22 (Conv2D)           (None, 32, 32, 32)        896       \n",
            "_________________________________________________________________\n",
            "activation (Activation)      (None, 32, 32, 32)        0         \n",
            "_________________________________________________________________\n",
            "max_pooling2d (MaxPooling2D) (None, 16, 16, 32)        0         \n",
            "_________________________________________________________________\n",
            "activation_1 (Activation)    (None, 16, 16, 32)        0         \n",
            "_________________________________________________________________\n",
            "conv2d_23 (Conv2D)           (None, 16, 16, 64)        18496     \n",
            "_________________________________________________________________\n",
            "activation_2 (Activation)    (None, 16, 16, 64)        0         \n",
            "_________________________________________________________________\n",
            "max_pooling2d_1 (MaxPooling2 (None, 8, 8, 64)          0         \n",
            "_________________________________________________________________\n",
            "activation_3 (Activation)    (None, 8, 8, 64)          0         \n",
            "_________________________________________________________________\n",
            "dropout (Dropout)            (None, 8, 8, 64)          0         \n",
            "_________________________________________________________________\n",
            "conv2d_24 (Conv2D)           (None, 8, 8, 128)         73856     \n",
            "_________________________________________________________________\n",
            "activation_4 (Activation)    (None, 8, 8, 128)         0         \n",
            "_________________________________________________________________\n",
            "max_pooling2d_2 (MaxPooling2 (None, 4, 4, 128)         0         \n",
            "_________________________________________________________________\n",
            "dropout_1 (Dropout)          (None, 4, 4, 128)         0         \n",
            "_________________________________________________________________\n",
            "flatten (Flatten)            (None, 2048)              0         \n",
            "_________________________________________________________________\n",
            "dense (Dense)                (None, 512)               1049088   \n",
            "_________________________________________________________________\n",
            "activation_5 (Activation)    (None, 512)               0         \n",
            "_________________________________________________________________\n",
            "dropout_2 (Dropout)          (None, 512)               0         \n",
            "_________________________________________________________________\n",
            "dense_1 (Dense)              (None, 100)               51300     \n",
            "_________________________________________________________________\n",
            "activation_6 (Activation)    (None, 100)               0         \n",
            "=================================================================\n",
            "Total params: 1,193,636\n",
            "Trainable params: 1,193,636\n",
            "Non-trainable params: 0\n",
            "_________________________________________________________________\n"
          ],
          "name": "stdout"
        }
      ]
    },
    {
      "cell_type": "code",
      "metadata": {
        "id": "cz0u94UhsW-c",
        "colab_type": "code",
        "colab": {}
      },
      "source": [
        "opt = tf.keras.optimizers.Adam(lr=0.0001)\n",
        "model.compile(loss='categorical_crossentropy', optimizer=opt, metrics=['accuracy'])"
      ],
      "execution_count": null,
      "outputs": []
    },
    {
      "cell_type": "code",
      "metadata": {
        "id": "F7IJg1easXAw",
        "colab_type": "code",
        "colab": {
          "base_uri": "https://localhost:8080/",
          "height": 1000
        },
        "outputId": "14556e28-67f1-4376-bb7e-814eea9fed1f"
      },
      "source": [
        "history = model.fit(X_train, Y_train, epochs=100, batch_size=50,\n",
        "                    validation_data=(X_test, Y_test), verbose=1)"
      ],
      "execution_count": null,
      "outputs": [
        {
          "output_type": "stream",
          "text": [
            "Epoch 1/100\n",
            "1000/1000 [==============================] - 14s 14ms/step - loss: 4.3446 - accuracy: 0.0422 - val_loss: 3.9502 - val_accuracy: 0.1122\n",
            "Epoch 2/100\n",
            "1000/1000 [==============================] - 13s 13ms/step - loss: 3.8815 - accuracy: 0.1087 - val_loss: 3.6057 - val_accuracy: 0.1711\n",
            "Epoch 3/100\n",
            "1000/1000 [==============================] - 13s 13ms/step - loss: 3.6505 - accuracy: 0.1440 - val_loss: 3.4099 - val_accuracy: 0.2087\n",
            "Epoch 4/100\n",
            "1000/1000 [==============================] - 13s 13ms/step - loss: 3.4903 - accuracy: 0.1731 - val_loss: 3.2679 - val_accuracy: 0.2331\n",
            "Epoch 5/100\n",
            "1000/1000 [==============================] - 13s 13ms/step - loss: 3.3588 - accuracy: 0.1955 - val_loss: 3.1462 - val_accuracy: 0.2536\n",
            "Epoch 6/100\n",
            "1000/1000 [==============================] - 13s 13ms/step - loss: 3.2475 - accuracy: 0.2170 - val_loss: 3.0361 - val_accuracy: 0.2762\n",
            "Epoch 7/100\n",
            "1000/1000 [==============================] - 13s 13ms/step - loss: 3.1440 - accuracy: 0.2357 - val_loss: 2.9662 - val_accuracy: 0.2863\n",
            "Epoch 8/100\n",
            "1000/1000 [==============================] - 13s 13ms/step - loss: 3.0625 - accuracy: 0.2520 - val_loss: 2.9141 - val_accuracy: 0.2980\n",
            "Epoch 9/100\n",
            "1000/1000 [==============================] - 13s 13ms/step - loss: 2.9830 - accuracy: 0.2640 - val_loss: 2.8171 - val_accuracy: 0.3147\n",
            "Epoch 10/100\n",
            "1000/1000 [==============================] - 13s 13ms/step - loss: 2.9205 - accuracy: 0.2749 - val_loss: 2.7566 - val_accuracy: 0.3224\n",
            "Epoch 11/100\n",
            "1000/1000 [==============================] - 13s 13ms/step - loss: 2.8636 - accuracy: 0.2899 - val_loss: 2.7100 - val_accuracy: 0.3351\n",
            "Epoch 12/100\n",
            "1000/1000 [==============================] - 13s 13ms/step - loss: 2.8052 - accuracy: 0.3008 - val_loss: 2.6536 - val_accuracy: 0.3392\n",
            "Epoch 13/100\n",
            "1000/1000 [==============================] - 13s 13ms/step - loss: 2.7526 - accuracy: 0.3085 - val_loss: 2.6191 - val_accuracy: 0.3503\n",
            "Epoch 14/100\n",
            "1000/1000 [==============================] - 13s 13ms/step - loss: 2.7052 - accuracy: 0.3207 - val_loss: 2.5949 - val_accuracy: 0.3532\n",
            "Epoch 15/100\n",
            "1000/1000 [==============================] - 12s 12ms/step - loss: 2.6633 - accuracy: 0.3289 - val_loss: 2.5404 - val_accuracy: 0.3668\n",
            "Epoch 16/100\n",
            "1000/1000 [==============================] - 12s 12ms/step - loss: 2.6177 - accuracy: 0.3371 - val_loss: 2.5129 - val_accuracy: 0.3720\n",
            "Epoch 17/100\n",
            "1000/1000 [==============================] - 12s 12ms/step - loss: 2.5737 - accuracy: 0.3464 - val_loss: 2.4987 - val_accuracy: 0.3739\n",
            "Epoch 18/100\n",
            "1000/1000 [==============================] - 12s 12ms/step - loss: 2.5379 - accuracy: 0.3546 - val_loss: 2.4816 - val_accuracy: 0.3826\n",
            "Epoch 19/100\n",
            "1000/1000 [==============================] - 13s 13ms/step - loss: 2.4988 - accuracy: 0.3633 - val_loss: 2.4366 - val_accuracy: 0.3907\n",
            "Epoch 20/100\n",
            "1000/1000 [==============================] - 13s 13ms/step - loss: 2.4669 - accuracy: 0.3682 - val_loss: 2.4023 - val_accuracy: 0.3940\n",
            "Epoch 21/100\n",
            "1000/1000 [==============================] - 12s 12ms/step - loss: 2.4272 - accuracy: 0.3755 - val_loss: 2.3854 - val_accuracy: 0.3980\n",
            "Epoch 22/100\n",
            "1000/1000 [==============================] - 12s 12ms/step - loss: 2.3962 - accuracy: 0.3797 - val_loss: 2.3550 - val_accuracy: 0.4050\n",
            "Epoch 23/100\n",
            "1000/1000 [==============================] - 12s 12ms/step - loss: 2.3573 - accuracy: 0.3900 - val_loss: 2.3257 - val_accuracy: 0.4146\n",
            "Epoch 24/100\n",
            "1000/1000 [==============================] - 12s 12ms/step - loss: 2.3330 - accuracy: 0.3939 - val_loss: 2.3249 - val_accuracy: 0.4128\n",
            "Epoch 25/100\n",
            "1000/1000 [==============================] - 12s 12ms/step - loss: 2.3008 - accuracy: 0.4019 - val_loss: 2.2914 - val_accuracy: 0.4201\n",
            "Epoch 26/100\n",
            "1000/1000 [==============================] - 12s 12ms/step - loss: 2.2664 - accuracy: 0.4102 - val_loss: 2.2742 - val_accuracy: 0.4241\n",
            "Epoch 27/100\n",
            "1000/1000 [==============================] - 13s 13ms/step - loss: 2.2444 - accuracy: 0.4141 - val_loss: 2.2562 - val_accuracy: 0.4233\n",
            "Epoch 28/100\n",
            "1000/1000 [==============================] - 12s 12ms/step - loss: 2.2130 - accuracy: 0.4226 - val_loss: 2.2365 - val_accuracy: 0.4311\n",
            "Epoch 29/100\n",
            "1000/1000 [==============================] - 12s 12ms/step - loss: 2.1859 - accuracy: 0.4287 - val_loss: 2.2419 - val_accuracy: 0.4281\n",
            "Epoch 30/100\n",
            "1000/1000 [==============================] - 12s 12ms/step - loss: 2.1707 - accuracy: 0.4291 - val_loss: 2.2265 - val_accuracy: 0.4329\n",
            "Epoch 31/100\n",
            "1000/1000 [==============================] - 12s 12ms/step - loss: 2.1416 - accuracy: 0.4371 - val_loss: 2.2009 - val_accuracy: 0.4386\n",
            "Epoch 32/100\n",
            "1000/1000 [==============================] - 12s 12ms/step - loss: 2.1101 - accuracy: 0.4444 - val_loss: 2.1995 - val_accuracy: 0.4381\n",
            "Epoch 33/100\n",
            "1000/1000 [==============================] - 12s 12ms/step - loss: 2.0868 - accuracy: 0.4485 - val_loss: 2.1749 - val_accuracy: 0.4423\n",
            "Epoch 34/100\n",
            "1000/1000 [==============================] - 12s 12ms/step - loss: 2.0604 - accuracy: 0.4545 - val_loss: 2.1688 - val_accuracy: 0.4407\n",
            "Epoch 35/100\n",
            "1000/1000 [==============================] - 12s 12ms/step - loss: 2.0300 - accuracy: 0.4615 - val_loss: 2.1480 - val_accuracy: 0.4483\n",
            "Epoch 36/100\n",
            "1000/1000 [==============================] - 12s 12ms/step - loss: 2.0098 - accuracy: 0.4648 - val_loss: 2.1373 - val_accuracy: 0.4508\n",
            "Epoch 37/100\n",
            "1000/1000 [==============================] - 12s 12ms/step - loss: 1.9900 - accuracy: 0.4663 - val_loss: 2.1419 - val_accuracy: 0.4484\n",
            "Epoch 38/100\n",
            "1000/1000 [==============================] - 12s 12ms/step - loss: 1.9660 - accuracy: 0.4733 - val_loss: 2.1345 - val_accuracy: 0.4503\n",
            "Epoch 39/100\n",
            "1000/1000 [==============================] - 13s 13ms/step - loss: 1.9451 - accuracy: 0.4774 - val_loss: 2.1110 - val_accuracy: 0.4561\n",
            "Epoch 40/100\n",
            "1000/1000 [==============================] - 12s 12ms/step - loss: 1.9144 - accuracy: 0.4863 - val_loss: 2.1008 - val_accuracy: 0.4555\n",
            "Epoch 41/100\n",
            "1000/1000 [==============================] - 12s 12ms/step - loss: 1.9064 - accuracy: 0.4892 - val_loss: 2.1103 - val_accuracy: 0.4522\n",
            "Epoch 42/100\n",
            "1000/1000 [==============================] - 12s 12ms/step - loss: 1.8795 - accuracy: 0.4911 - val_loss: 2.1058 - val_accuracy: 0.4570\n",
            "Epoch 43/100\n",
            "1000/1000 [==============================] - 12s 12ms/step - loss: 1.8580 - accuracy: 0.4957 - val_loss: 2.0795 - val_accuracy: 0.4624\n",
            "Epoch 44/100\n",
            "1000/1000 [==============================] - 13s 13ms/step - loss: 1.8383 - accuracy: 0.4995 - val_loss: 2.0824 - val_accuracy: 0.4615\n",
            "Epoch 45/100\n",
            "1000/1000 [==============================] - 12s 12ms/step - loss: 1.8227 - accuracy: 0.5054 - val_loss: 2.0777 - val_accuracy: 0.4625\n",
            "Epoch 46/100\n",
            "1000/1000 [==============================] - 12s 12ms/step - loss: 1.8087 - accuracy: 0.5093 - val_loss: 2.0691 - val_accuracy: 0.4665\n",
            "Epoch 47/100\n",
            "1000/1000 [==============================] - 13s 13ms/step - loss: 1.7854 - accuracy: 0.5122 - val_loss: 2.0690 - val_accuracy: 0.4677\n",
            "Epoch 48/100\n",
            "1000/1000 [==============================] - 13s 13ms/step - loss: 1.7725 - accuracy: 0.5167 - val_loss: 2.0545 - val_accuracy: 0.4676\n",
            "Epoch 49/100\n",
            "1000/1000 [==============================] - 13s 13ms/step - loss: 1.7498 - accuracy: 0.5209 - val_loss: 2.0536 - val_accuracy: 0.4708\n",
            "Epoch 50/100\n",
            "1000/1000 [==============================] - 12s 12ms/step - loss: 1.7228 - accuracy: 0.5268 - val_loss: 2.0402 - val_accuracy: 0.4738\n",
            "Epoch 51/100\n",
            "1000/1000 [==============================] - 15s 15ms/step - loss: 1.7109 - accuracy: 0.5306 - val_loss: 2.0558 - val_accuracy: 0.4708\n",
            "Epoch 52/100\n",
            "1000/1000 [==============================] - 15s 15ms/step - loss: 1.6916 - accuracy: 0.5315 - val_loss: 2.0299 - val_accuracy: 0.4744\n",
            "Epoch 53/100\n",
            "1000/1000 [==============================] - 15s 15ms/step - loss: 1.6778 - accuracy: 0.5323 - val_loss: 2.0293 - val_accuracy: 0.4727\n",
            "Epoch 54/100\n",
            "1000/1000 [==============================] - 15s 15ms/step - loss: 1.6604 - accuracy: 0.5389 - val_loss: 2.0217 - val_accuracy: 0.4751\n",
            "Epoch 55/100\n",
            "1000/1000 [==============================] - 15s 15ms/step - loss: 1.6445 - accuracy: 0.5443 - val_loss: 2.0170 - val_accuracy: 0.4806\n",
            "Epoch 56/100\n",
            "1000/1000 [==============================] - 15s 15ms/step - loss: 1.6234 - accuracy: 0.5504 - val_loss: 2.0232 - val_accuracy: 0.4756\n",
            "Epoch 57/100\n",
            "1000/1000 [==============================] - 15s 15ms/step - loss: 1.6145 - accuracy: 0.5478 - val_loss: 2.0124 - val_accuracy: 0.4802\n",
            "Epoch 58/100\n",
            "1000/1000 [==============================] - 13s 13ms/step - loss: 1.5966 - accuracy: 0.5546 - val_loss: 2.0133 - val_accuracy: 0.4805\n",
            "Epoch 59/100\n",
            "1000/1000 [==============================] - 13s 13ms/step - loss: 1.5773 - accuracy: 0.5579 - val_loss: 2.0109 - val_accuracy: 0.4783\n",
            "Epoch 60/100\n",
            "1000/1000 [==============================] - 13s 13ms/step - loss: 1.5666 - accuracy: 0.5631 - val_loss: 2.0054 - val_accuracy: 0.4830\n",
            "Epoch 61/100\n",
            "1000/1000 [==============================] - 13s 13ms/step - loss: 1.5513 - accuracy: 0.5617 - val_loss: 2.0056 - val_accuracy: 0.4846\n",
            "Epoch 62/100\n",
            "1000/1000 [==============================] - 13s 13ms/step - loss: 1.5321 - accuracy: 0.5697 - val_loss: 2.0058 - val_accuracy: 0.4847\n",
            "Epoch 63/100\n",
            "1000/1000 [==============================] - 13s 13ms/step - loss: 1.5229 - accuracy: 0.5725 - val_loss: 2.0032 - val_accuracy: 0.4824\n",
            "Epoch 64/100\n",
            "1000/1000 [==============================] - 13s 13ms/step - loss: 1.5106 - accuracy: 0.5737 - val_loss: 2.0021 - val_accuracy: 0.4847\n",
            "Epoch 65/100\n",
            "1000/1000 [==============================] - 13s 13ms/step - loss: 1.4871 - accuracy: 0.5775 - val_loss: 2.0113 - val_accuracy: 0.4820\n",
            "Epoch 66/100\n",
            "1000/1000 [==============================] - 13s 13ms/step - loss: 1.4673 - accuracy: 0.5856 - val_loss: 2.0067 - val_accuracy: 0.4847\n",
            "Epoch 67/100\n",
            "1000/1000 [==============================] - 13s 13ms/step - loss: 1.4548 - accuracy: 0.5849 - val_loss: 2.0245 - val_accuracy: 0.4792\n",
            "Epoch 68/100\n",
            "1000/1000 [==============================] - 13s 13ms/step - loss: 1.4495 - accuracy: 0.5870 - val_loss: 1.9969 - val_accuracy: 0.4879\n",
            "Epoch 69/100\n",
            "1000/1000 [==============================] - 12s 12ms/step - loss: 1.4316 - accuracy: 0.5910 - val_loss: 2.0005 - val_accuracy: 0.4847\n",
            "Epoch 70/100\n",
            "1000/1000 [==============================] - 13s 13ms/step - loss: 1.4214 - accuracy: 0.5912 - val_loss: 1.9931 - val_accuracy: 0.4903\n",
            "Epoch 71/100\n",
            "1000/1000 [==============================] - 13s 13ms/step - loss: 1.4097 - accuracy: 0.5991 - val_loss: 1.9970 - val_accuracy: 0.4877\n",
            "Epoch 72/100\n",
            "1000/1000 [==============================] - 13s 13ms/step - loss: 1.3976 - accuracy: 0.5984 - val_loss: 2.0167 - val_accuracy: 0.4854\n",
            "Epoch 73/100\n",
            "1000/1000 [==============================] - 13s 13ms/step - loss: 1.3787 - accuracy: 0.6033 - val_loss: 2.0032 - val_accuracy: 0.4856\n",
            "Epoch 74/100\n",
            "1000/1000 [==============================] - 13s 13ms/step - loss: 1.3679 - accuracy: 0.6040 - val_loss: 2.0037 - val_accuracy: 0.4878\n",
            "Epoch 75/100\n",
            "1000/1000 [==============================] - 12s 12ms/step - loss: 1.3596 - accuracy: 0.6059 - val_loss: 1.9989 - val_accuracy: 0.4890\n",
            "Epoch 76/100\n",
            "1000/1000 [==============================] - 12s 12ms/step - loss: 1.3435 - accuracy: 0.6114 - val_loss: 2.0199 - val_accuracy: 0.4891\n",
            "Epoch 77/100\n",
            "1000/1000 [==============================] - 12s 12ms/step - loss: 1.3387 - accuracy: 0.6128 - val_loss: 1.9953 - val_accuracy: 0.4890\n",
            "Epoch 78/100\n",
            "1000/1000 [==============================] - 12s 12ms/step - loss: 1.3221 - accuracy: 0.6150 - val_loss: 2.0014 - val_accuracy: 0.4904\n",
            "Epoch 79/100\n",
            "1000/1000 [==============================] - 12s 12ms/step - loss: 1.3106 - accuracy: 0.6191 - val_loss: 1.9986 - val_accuracy: 0.4903\n",
            "Epoch 80/100\n",
            "1000/1000 [==============================] - 12s 12ms/step - loss: 1.2926 - accuracy: 0.6217 - val_loss: 2.0238 - val_accuracy: 0.4860\n",
            "Epoch 81/100\n",
            "1000/1000 [==============================] - 12s 12ms/step - loss: 1.2850 - accuracy: 0.6240 - val_loss: 2.0093 - val_accuracy: 0.4944\n",
            "Epoch 82/100\n",
            "1000/1000 [==============================] - 12s 12ms/step - loss: 1.2839 - accuracy: 0.6228 - val_loss: 1.9984 - val_accuracy: 0.4928\n",
            "Epoch 83/100\n",
            "1000/1000 [==============================] - 12s 12ms/step - loss: 1.2754 - accuracy: 0.6291 - val_loss: 2.0031 - val_accuracy: 0.4939\n",
            "Epoch 84/100\n",
            "1000/1000 [==============================] - 12s 12ms/step - loss: 1.2588 - accuracy: 0.6300 - val_loss: 2.0099 - val_accuracy: 0.4916\n",
            "Epoch 85/100\n",
            "1000/1000 [==============================] - 13s 13ms/step - loss: 1.2527 - accuracy: 0.6328 - val_loss: 2.0203 - val_accuracy: 0.4922\n",
            "Epoch 86/100\n",
            "1000/1000 [==============================] - 12s 12ms/step - loss: 1.2368 - accuracy: 0.6365 - val_loss: 2.0083 - val_accuracy: 0.4906\n",
            "Epoch 87/100\n",
            "1000/1000 [==============================] - 12s 12ms/step - loss: 1.2302 - accuracy: 0.6391 - val_loss: 2.0142 - val_accuracy: 0.4895\n",
            "Epoch 88/100\n",
            "1000/1000 [==============================] - 12s 12ms/step - loss: 1.2212 - accuracy: 0.6391 - val_loss: 2.0143 - val_accuracy: 0.4906\n",
            "Epoch 89/100\n",
            "1000/1000 [==============================] - 12s 12ms/step - loss: 1.2063 - accuracy: 0.6483 - val_loss: 2.0180 - val_accuracy: 0.4901\n",
            "Epoch 90/100\n",
            "1000/1000 [==============================] - 12s 12ms/step - loss: 1.2009 - accuracy: 0.6445 - val_loss: 2.0184 - val_accuracy: 0.4903\n",
            "Epoch 91/100\n",
            "1000/1000 [==============================] - 12s 12ms/step - loss: 1.1966 - accuracy: 0.6479 - val_loss: 2.0216 - val_accuracy: 0.4911\n",
            "Epoch 92/100\n",
            "1000/1000 [==============================] - 13s 13ms/step - loss: 1.1839 - accuracy: 0.6498 - val_loss: 2.0164 - val_accuracy: 0.4936\n",
            "Epoch 93/100\n",
            "1000/1000 [==============================] - 12s 12ms/step - loss: 1.1752 - accuracy: 0.6524 - val_loss: 2.0224 - val_accuracy: 0.4898\n",
            "Epoch 94/100\n",
            "1000/1000 [==============================] - 12s 12ms/step - loss: 1.1597 - accuracy: 0.6581 - val_loss: 2.0242 - val_accuracy: 0.4897\n",
            "Epoch 95/100\n",
            "1000/1000 [==============================] - 12s 12ms/step - loss: 1.1559 - accuracy: 0.6573 - val_loss: 2.0403 - val_accuracy: 0.4877\n",
            "Epoch 96/100\n",
            "1000/1000 [==============================] - 12s 12ms/step - loss: 1.1526 - accuracy: 0.6569 - val_loss: 2.0259 - val_accuracy: 0.4905\n",
            "Epoch 97/100\n",
            "1000/1000 [==============================] - 12s 12ms/step - loss: 1.1398 - accuracy: 0.6586 - val_loss: 2.0444 - val_accuracy: 0.4887\n",
            "Epoch 98/100\n",
            "1000/1000 [==============================] - 13s 13ms/step - loss: 1.1303 - accuracy: 0.6641 - val_loss: 2.0328 - val_accuracy: 0.4912\n",
            "Epoch 99/100\n",
            "1000/1000 [==============================] - 12s 12ms/step - loss: 1.1243 - accuracy: 0.6660 - val_loss: 2.0296 - val_accuracy: 0.4927\n",
            "Epoch 100/100\n",
            "1000/1000 [==============================] - 12s 12ms/step - loss: 1.1100 - accuracy: 0.6675 - val_loss: 2.0331 - val_accuracy: 0.4894\n"
          ],
          "name": "stdout"
        }
      ]
    },
    {
      "cell_type": "code",
      "metadata": {
        "id": "IOrCdzJ6sXDN",
        "colab_type": "code",
        "colab": {
          "base_uri": "https://localhost:8080/",
          "height": 71
        },
        "outputId": "a597b074-86d6-4633-9ce3-513685e7e9cb"
      },
      "source": [
        "# 테스트 정확도 출력 \n",
        "print(\"\\n Test Accuracy: %.4f\" % (model.evaluate(X_test, Y_test)[1]))"
      ],
      "execution_count": null,
      "outputs": [
        {
          "output_type": "stream",
          "text": [
            "313/313 [==============================] - 2s 6ms/step - loss: 2.0331 - accuracy: 0.4894\n",
            "\n",
            " Test Accuracy: 0.4894\n"
          ],
          "name": "stdout"
        }
      ]
    },
    {
      "cell_type": "code",
      "metadata": {
        "id": "-zUt3_BhsXFp",
        "colab_type": "code",
        "colab": {}
      },
      "source": [
        "# 테스트셋\n",
        "y_vloss = history.history['val_loss']\n",
        "y_vacc = history.history['val_accuracy']\n",
        "# 학습셋\n",
        "y_loss = history.history['loss']\n",
        "y_acc = history.history['accuracy']"
      ],
      "execution_count": null,
      "outputs": []
    },
    {
      "cell_type": "code",
      "metadata": {
        "id": "DQ7ZP8zEsXIB",
        "colab_type": "code",
        "colab": {
          "base_uri": "https://localhost:8080/",
          "height": 500
        },
        "outputId": "4a33d848-3945-442f-bc46-f01feaa54922"
      },
      "source": [
        "# 그래프로 표현\n",
        "import numpy as np\n",
        "x_len = np.arange(1, len(y_loss)+1)\n",
        "fig, ax0 = plt.subplots(figsize=(10,8))\n",
        "ax1 = ax0.twinx()\n",
        "ax0.plot(x_len, y_loss, c=\"blue\", label='Trainset_loss')\n",
        "ax0.plot(x_len, y_vloss, c=\"red\", label='Testset_loss')\n",
        "ax0.set_ylabel('loss')\n",
        "ax1.plot(x_len, y_acc, c=\"darkgreen\", label='Trainset_acc')\n",
        "ax1.plot(x_len, y_vacc, c=\"magenta\", label='Testset_acc')\n",
        "ax1.set_ylabel('accuracy')\n",
        "ax0.set_xlabel('epoch')\n",
        "ax0.legend(loc='upper center')\n",
        "ax1.legend(loc='lower center')\n",
        "plt.show()"
      ],
      "execution_count": null,
      "outputs": [
        {
          "output_type": "display_data",
          "data": {
            "image/png": "[encoded data removed]",
            "text/plain": [
              "<Figure size 720x576 with 2 Axes>"
            ]
          },
          "metadata": {
            "tags": [],
            "needs_background": "light"
          }
        }
      ]
    },
    {
      "cell_type": "code",
      "metadata": {
        "id": "eQ-CGuH6sXKL",
        "colab_type": "code",
        "colab": {}
      },
      "source": [
        ""
      ],
      "execution_count": null,
      "outputs": []
    }
  ]
}